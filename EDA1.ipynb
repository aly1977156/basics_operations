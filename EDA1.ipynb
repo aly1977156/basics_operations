{
 "cells": [
  {
   "cell_type": "code",
   "execution_count": 1,
   "id": "f7c62c51-bc08-498d-b2bc-1de14f81cc0d",
   "metadata": {},
   "outputs": [],
   "source": [
    "import pandas as pd\n",
    "import numpy as np\n",
    "import matplotlib.pyplot as plt\n",
    "import seaborn as sns\n"
   ]
  },
  {
   "cell_type": "code",
   "execution_count": 2,
   "id": "6c3515dc-0438-424e-82b6-fba845fc0fb5",
   "metadata": {},
   "outputs": [
    {
     "name": "stdout",
     "output_type": "stream",
     "text": [
      "    Unnamed: 0  Ozone  Solar.R  Wind Temp C Month  Day  Year  Temp Weather\n",
      "0            1   41.0    190.0   7.4     67     5    1  2010    67       S\n",
      "1            2   36.0    118.0   8.0     72     5    2  2010    72       C\n",
      "2            3   12.0    149.0  12.6     74     5    3  2010    74      PS\n",
      "3            4   18.0    313.0  11.5     62     5    4  2010    62       S\n",
      "4            5    NaN      NaN  14.3     56     5    5  2010    56       S\n",
      "5            6   28.0      NaN  14.9     66     5    6  2010    66       C\n",
      "6            7   23.0    299.0   8.6     65     5    7  2010    65      PS\n",
      "7            8   19.0     99.0  13.8     59     5    8  2010    59       C\n",
      "8            9    8.0     19.0  20.1     61     5    9  2010    61      PS\n",
      "9           10    NaN    194.0   8.6     69     5   10  2010    69       S\n",
      "10          11    7.0      NaN   6.9      C     5   11  2010    74       C\n"
     ]
    }
   ],
   "source": [
    "dt=pd.read_csv(\"data_clean.csv\")\n",
    "print(dt.head(11))\n"
   ]
  },
  {
   "cell_type": "code",
   "execution_count": 3,
   "id": "749a0d4d-1571-49e6-8adb-f2dc11e0b93e",
   "metadata": {},
   "outputs": [
    {
     "name": "stdout",
     "output_type": "stream",
     "text": [
      "<class 'pandas.core.frame.DataFrame'>\n",
      "RangeIndex: 158 entries, 0 to 157\n",
      "Data columns (total 10 columns):\n",
      " #   Column      Non-Null Count  Dtype  \n",
      "---  ------      --------------  -----  \n",
      " 0   Unnamed: 0  158 non-null    int64  \n",
      " 1   Ozone       120 non-null    float64\n",
      " 2   Solar.R     151 non-null    float64\n",
      " 3   Wind        158 non-null    float64\n",
      " 4   Temp C      158 non-null    object \n",
      " 5   Month       158 non-null    object \n",
      " 6   Day         158 non-null    int64  \n",
      " 7   Year        158 non-null    int64  \n",
      " 8   Temp        158 non-null    int64  \n",
      " 9   Weather     155 non-null    object \n",
      "dtypes: float64(3), int64(4), object(3)\n",
      "memory usage: 12.5+ KB\n"
     ]
    }
   ],
   "source": [
    "#Printing the info\n",
    "dt.info()"
   ]
  },
  {
   "cell_type": "code",
   "execution_count": 4,
   "id": "8237114f-d5a9-4d62-9669-5b140162eac8",
   "metadata": {},
   "outputs": [
    {
     "data": {
      "text/html": [
       "<div>\n",
       "<style scoped>\n",
       "    .dataframe tbody tr th:only-of-type {\n",
       "        vertical-align: middle;\n",
       "    }\n",
       "\n",
       "    .dataframe tbody tr th {\n",
       "        vertical-align: top;\n",
       "    }\n",
       "\n",
       "    .dataframe thead th {\n",
       "        text-align: right;\n",
       "    }\n",
       "</style>\n",
       "<table border=\"1\" class=\"dataframe\">\n",
       "  <thead>\n",
       "    <tr style=\"text-align: right;\">\n",
       "      <th></th>\n",
       "      <th>Unnamed: 0</th>\n",
       "      <th>Ozone</th>\n",
       "      <th>Solar.R</th>\n",
       "      <th>Wind</th>\n",
       "      <th>Day</th>\n",
       "      <th>Year</th>\n",
       "      <th>Temp</th>\n",
       "    </tr>\n",
       "  </thead>\n",
       "  <tbody>\n",
       "    <tr>\n",
       "      <th>count</th>\n",
       "      <td>158.000000</td>\n",
       "      <td>120.000000</td>\n",
       "      <td>151.000000</td>\n",
       "      <td>158.000000</td>\n",
       "      <td>158.000000</td>\n",
       "      <td>158.0</td>\n",
       "      <td>158.000000</td>\n",
       "    </tr>\n",
       "    <tr>\n",
       "      <th>mean</th>\n",
       "      <td>79.500000</td>\n",
       "      <td>41.583333</td>\n",
       "      <td>185.403974</td>\n",
       "      <td>9.957595</td>\n",
       "      <td>16.006329</td>\n",
       "      <td>2010.0</td>\n",
       "      <td>77.727848</td>\n",
       "    </tr>\n",
       "    <tr>\n",
       "      <th>std</th>\n",
       "      <td>45.754781</td>\n",
       "      <td>32.620709</td>\n",
       "      <td>88.723103</td>\n",
       "      <td>3.511261</td>\n",
       "      <td>8.997166</td>\n",
       "      <td>0.0</td>\n",
       "      <td>9.377877</td>\n",
       "    </tr>\n",
       "    <tr>\n",
       "      <th>min</th>\n",
       "      <td>1.000000</td>\n",
       "      <td>1.000000</td>\n",
       "      <td>7.000000</td>\n",
       "      <td>1.700000</td>\n",
       "      <td>1.000000</td>\n",
       "      <td>2010.0</td>\n",
       "      <td>56.000000</td>\n",
       "    </tr>\n",
       "    <tr>\n",
       "      <th>25%</th>\n",
       "      <td>40.250000</td>\n",
       "      <td>18.000000</td>\n",
       "      <td>119.000000</td>\n",
       "      <td>7.400000</td>\n",
       "      <td>8.000000</td>\n",
       "      <td>2010.0</td>\n",
       "      <td>72.000000</td>\n",
       "    </tr>\n",
       "    <tr>\n",
       "      <th>50%</th>\n",
       "      <td>79.500000</td>\n",
       "      <td>30.500000</td>\n",
       "      <td>197.000000</td>\n",
       "      <td>9.700000</td>\n",
       "      <td>16.000000</td>\n",
       "      <td>2010.0</td>\n",
       "      <td>78.500000</td>\n",
       "    </tr>\n",
       "    <tr>\n",
       "      <th>75%</th>\n",
       "      <td>118.750000</td>\n",
       "      <td>61.500000</td>\n",
       "      <td>257.000000</td>\n",
       "      <td>11.875000</td>\n",
       "      <td>24.000000</td>\n",
       "      <td>2010.0</td>\n",
       "      <td>84.000000</td>\n",
       "    </tr>\n",
       "    <tr>\n",
       "      <th>max</th>\n",
       "      <td>158.000000</td>\n",
       "      <td>168.000000</td>\n",
       "      <td>334.000000</td>\n",
       "      <td>20.700000</td>\n",
       "      <td>31.000000</td>\n",
       "      <td>2010.0</td>\n",
       "      <td>97.000000</td>\n",
       "    </tr>\n",
       "  </tbody>\n",
       "</table>\n",
       "</div>"
      ],
      "text/plain": [
       "       Unnamed: 0       Ozone     Solar.R        Wind         Day    Year  \\\n",
       "count  158.000000  120.000000  151.000000  158.000000  158.000000   158.0   \n",
       "mean    79.500000   41.583333  185.403974    9.957595   16.006329  2010.0   \n",
       "std     45.754781   32.620709   88.723103    3.511261    8.997166     0.0   \n",
       "min      1.000000    1.000000    7.000000    1.700000    1.000000  2010.0   \n",
       "25%     40.250000   18.000000  119.000000    7.400000    8.000000  2010.0   \n",
       "50%     79.500000   30.500000  197.000000    9.700000   16.000000  2010.0   \n",
       "75%    118.750000   61.500000  257.000000   11.875000   24.000000  2010.0   \n",
       "max    158.000000  168.000000  334.000000   20.700000   31.000000  2010.0   \n",
       "\n",
       "             Temp  \n",
       "count  158.000000  \n",
       "mean    77.727848  \n",
       "std      9.377877  \n",
       "min     56.000000  \n",
       "25%     72.000000  \n",
       "50%     78.500000  \n",
       "75%     84.000000  \n",
       "max     97.000000  "
      ]
     },
     "execution_count": 4,
     "metadata": {},
     "output_type": "execute_result"
    }
   ],
   "source": [
    "dt.describe()"
   ]
  },
  {
   "cell_type": "code",
   "execution_count": 5,
   "id": "97385e2c-6b4b-4346-8c45-4dc02cd3ab2a",
   "metadata": {},
   "outputs": [
    {
     "name": "stdout",
     "output_type": "stream",
     "text": [
      "     Ozone  Solar.R  Wind Temp C Month  Day  Year  Temp Weather\n",
      "0     41.0    190.0   7.4     67     5    1  2010    67       S\n",
      "1     36.0    118.0   8.0     72     5    2  2010    72       C\n",
      "2     12.0    149.0  12.6     74     5    3  2010    74      PS\n",
      "3     18.0    313.0  11.5     62     5    4  2010    62       S\n",
      "4      NaN      NaN  14.3     56     5    5  2010    56       S\n",
      "..     ...      ...   ...    ...   ...  ...   ...   ...     ...\n",
      "153   41.0    190.0   7.4     67     5    1  2010    67       C\n",
      "154   30.0    193.0   6.9     70     9   26  2010    70      PS\n",
      "155    NaN    145.0  13.2     77     9   27  2010    77       S\n",
      "156   14.0    191.0  14.3     75     9   28  2010    75       S\n",
      "157   18.0    131.0   8.0     76     9   29  2010    76       C\n",
      "\n",
      "[158 rows x 9 columns]\n",
      "<class 'pandas.core.frame.DataFrame'>\n",
      "RangeIndex: 158 entries, 0 to 157\n",
      "Data columns (total 9 columns):\n",
      " #   Column   Non-Null Count  Dtype  \n",
      "---  ------   --------------  -----  \n",
      " 0   Ozone    120 non-null    float64\n",
      " 1   Solar.R  151 non-null    float64\n",
      " 2   Wind     158 non-null    float64\n",
      " 3   Temp C   158 non-null    object \n",
      " 4   Month    158 non-null    object \n",
      " 5   Day      158 non-null    int64  \n",
      " 6   Year     158 non-null    int64  \n",
      " 7   Temp     158 non-null    int64  \n",
      " 8   Weather  155 non-null    object \n",
      "dtypes: float64(3), int64(3), object(3)\n",
      "memory usage: 11.2+ KB\n"
     ]
    }
   ],
   "source": [
    "#drp=dt.drop(\"Unnamed: 0\",axis=1, inplace=True)  modifies original data table\n",
    "dt1=dt.drop(\"Unnamed: 0\",axis=1) #modifies and give new data table untouching original data\n",
    "print(dt1)\n",
    "dt1.info()\n"
   ]
  },
  {
   "cell_type": "code",
   "execution_count": 6,
   "id": "8f3f2866-ed7c-498b-9160-eea9034d8792",
   "metadata": {},
   "outputs": [
    {
     "name": "stdout",
     "output_type": "stream",
     "text": [
      "<class 'pandas.core.frame.DataFrame'>\n",
      "RangeIndex: 158 entries, 0 to 157\n",
      "Data columns (total 10 columns):\n",
      " #   Column      Non-Null Count  Dtype  \n",
      "---  ------      --------------  -----  \n",
      " 0   Unnamed: 0  158 non-null    int64  \n",
      " 1   Ozone       120 non-null    float64\n",
      " 2   Solar.R     151 non-null    float64\n",
      " 3   Wind        158 non-null    float64\n",
      " 4   Temp C      158 non-null    object \n",
      " 5   Month       158 non-null    object \n",
      " 6   Day         158 non-null    int64  \n",
      " 7   Year        158 non-null    int64  \n",
      " 8   Temp        158 non-null    int64  \n",
      " 9   Weather     155 non-null    object \n",
      "dtypes: float64(3), int64(4), object(3)\n",
      "memory usage: 12.5+ KB\n",
      "<class 'pandas.core.frame.DataFrame'>\n",
      "RangeIndex: 158 entries, 0 to 157\n",
      "Data columns (total 9 columns):\n",
      " #   Column   Non-Null Count  Dtype  \n",
      "---  ------   --------------  -----  \n",
      " 0   Ozone    120 non-null    float64\n",
      " 1   Solar.R  151 non-null    float64\n",
      " 2   Wind     158 non-null    float64\n",
      " 3   Temp C   158 non-null    object \n",
      " 4   Month    157 non-null    float64\n",
      " 5   Day      158 non-null    int64  \n",
      " 6   Year     158 non-null    int64  \n",
      " 7   Temp     158 non-null    int64  \n",
      " 8   Weather  155 non-null    object \n",
      "dtypes: float64(4), int64(3), object(2)\n",
      "memory usage: 11.2+ KB\n",
      "    Unnamed: 0  Ozone  Solar.R  Wind Temp C Month  Day  Year  Temp Weather\n",
      "0            1   41.0    190.0   7.4     67     5    1  2010    67       S\n",
      "1            2   36.0    118.0   8.0     72     5    2  2010    72       C\n",
      "2            3   12.0    149.0  12.6     74     5    3  2010    74      PS\n",
      "3            4   18.0    313.0  11.5     62     5    4  2010    62       S\n",
      "4            5    NaN      NaN  14.3     56     5    5  2010    56       S\n",
      "5            6   28.0      NaN  14.9     66     5    6  2010    66       C\n",
      "6            7   23.0    299.0   8.6     65     5    7  2010    65      PS\n",
      "7            8   19.0     99.0  13.8     59     5    8  2010    59       C\n",
      "8            9    8.0     19.0  20.1     61     5    9  2010    61      PS\n",
      "9           10    NaN    194.0   8.6     69     5   10  2010    69       S\n",
      "10          11    7.0      NaN   6.9      C     5   11  2010    74       C\n",
      "11          12   16.0    256.0   9.7     69     5   12  2010    69      PS\n",
      "12          13   11.0    290.0   9.2     66     5   13  2010    66       S\n",
      "13          14   14.0    274.0  10.9     68     5   14  2010    68       S\n",
      "14          15   18.0     65.0  13.2     58     5   15  2010    58       C\n",
      "15          16   14.0    334.0  11.5     64     5   16  2010    64       S\n",
      "16          17   34.0    307.0  12.0     66     5   17  2010    66       S\n",
      "17          18    6.0     78.0  18.4     57     5   18  2010    57       C\n",
      "18          19   30.0    322.0  11.5     68     5   19  2010    68      PS\n",
      "19          20   11.0     44.0   9.7     62     5   20  2010    62       S\n",
      "20          21    1.0      8.0   9.7     59     5   21  2010    59       S\n",
      "21          22   11.0    320.0  16.6     73     5   22  2010    73       C\n",
      "22          23    4.0     25.0   9.7     61     5   23  2010    61      PS\n",
      "23          24   32.0     92.0  12.0     61   May   24  2010    61       C\n",
      "    Ozone  Solar.R  Wind Temp C  Month  Day  Year  Temp Weather\n",
      "0    41.0    190.0   7.4     67    5.0    1  2010    67       S\n",
      "1    36.0    118.0   8.0     72    5.0    2  2010    72       C\n",
      "2    12.0    149.0  12.6     74    5.0    3  2010    74      PS\n",
      "3    18.0    313.0  11.5     62    5.0    4  2010    62       S\n",
      "4     NaN      NaN  14.3     56    5.0    5  2010    56       S\n",
      "5    28.0      NaN  14.9     66    5.0    6  2010    66       C\n",
      "6    23.0    299.0   8.6     65    5.0    7  2010    65      PS\n",
      "7    19.0     99.0  13.8     59    5.0    8  2010    59       C\n",
      "8     8.0     19.0  20.1     61    5.0    9  2010    61      PS\n",
      "9     NaN    194.0   8.6     69    5.0   10  2010    69       S\n",
      "10    7.0      NaN   6.9      C    5.0   11  2010    74       C\n",
      "11   16.0    256.0   9.7     69    5.0   12  2010    69      PS\n",
      "12   11.0    290.0   9.2     66    5.0   13  2010    66       S\n",
      "13   14.0    274.0  10.9     68    5.0   14  2010    68       S\n",
      "14   18.0     65.0  13.2     58    5.0   15  2010    58       C\n",
      "15   14.0    334.0  11.5     64    5.0   16  2010    64       S\n",
      "16   34.0    307.0  12.0     66    5.0   17  2010    66       S\n",
      "17    6.0     78.0  18.4     57    5.0   18  2010    57       C\n",
      "18   30.0    322.0  11.5     68    5.0   19  2010    68      PS\n",
      "19   11.0     44.0   9.7     62    5.0   20  2010    62       S\n",
      "20    1.0      8.0   9.7     59    5.0   21  2010    59       S\n",
      "21   11.0    320.0  16.6     73    5.0   22  2010    73       C\n",
      "22    4.0     25.0   9.7     61    5.0   23  2010    61      PS\n",
      "23   32.0     92.0  12.0     61    NaN   24  2010    61       C\n"
     ]
    }
   ],
   "source": [
    "dt1['Month']=pd.to_numeric(dt['Month'],errors='coerce')\n",
    "dt.info()\n",
    "dt1.info()\n",
    "print(dt.head(24))\n",
    "print(dt1.head(24))"
   ]
  },
  {
   "cell_type": "code",
   "execution_count": 7,
   "id": "3c88eeea-eff2-4c51-be31-e480b6ac4b58",
   "metadata": {},
   "outputs": [
    {
     "data": {
      "text/html": [
       "<div>\n",
       "<style scoped>\n",
       "    .dataframe tbody tr th:only-of-type {\n",
       "        vertical-align: middle;\n",
       "    }\n",
       "\n",
       "    .dataframe tbody tr th {\n",
       "        vertical-align: top;\n",
       "    }\n",
       "\n",
       "    .dataframe thead th {\n",
       "        text-align: right;\n",
       "    }\n",
       "</style>\n",
       "<table border=\"1\" class=\"dataframe\">\n",
       "  <thead>\n",
       "    <tr style=\"text-align: right;\">\n",
       "      <th></th>\n",
       "      <th>Ozone</th>\n",
       "      <th>Solar.R</th>\n",
       "      <th>Wind</th>\n",
       "      <th>Temp C</th>\n",
       "      <th>Month</th>\n",
       "      <th>Day</th>\n",
       "      <th>Year</th>\n",
       "      <th>Temp</th>\n",
       "      <th>Weather</th>\n",
       "    </tr>\n",
       "  </thead>\n",
       "  <tbody>\n",
       "    <tr>\n",
       "      <th>150</th>\n",
       "      <td>14.0</td>\n",
       "      <td>191.0</td>\n",
       "      <td>14.3</td>\n",
       "      <td>75</td>\n",
       "      <td>9.0</td>\n",
       "      <td>28</td>\n",
       "      <td>2010</td>\n",
       "      <td>75</td>\n",
       "      <td>S</td>\n",
       "    </tr>\n",
       "    <tr>\n",
       "      <th>156</th>\n",
       "      <td>14.0</td>\n",
       "      <td>191.0</td>\n",
       "      <td>14.3</td>\n",
       "      <td>75</td>\n",
       "      <td>9.0</td>\n",
       "      <td>28</td>\n",
       "      <td>2010</td>\n",
       "      <td>75</td>\n",
       "      <td>S</td>\n",
       "    </tr>\n",
       "  </tbody>\n",
       "</table>\n",
       "</div>"
      ],
      "text/plain": [
       "     Ozone  Solar.R  Wind Temp C  Month  Day  Year  Temp Weather\n",
       "150   14.0    191.0  14.3     75    9.0   28  2010    75       S\n",
       "156   14.0    191.0  14.3     75    9.0   28  2010    75       S"
      ]
     },
     "execution_count": 7,
     "metadata": {},
     "output_type": "execute_result"
    }
   ],
   "source": [
    "#Identify and print all duplicated row\n",
    "dt1[dt1.duplicated(keep=False)]\n"
   ]
  },
  {
   "cell_type": "code",
   "execution_count": 8,
   "id": "29785d5f-e496-404a-8c8b-955321b89951",
   "metadata": {},
   "outputs": [
    {
     "name": "stdout",
     "output_type": "stream",
     "text": [
      "     Ozone  Solar.R  Wind Temp C  Month  Day  Year  Temp Weather\n",
      "148   30.0    193.0   6.9     70    9.0   26  2010    70       C\n",
      "149    NaN    145.0  13.2     77    9.0   27  2010    77      PS\n",
      "150   14.0    191.0  14.3     75    9.0   28  2010    75       S\n",
      "151   18.0    131.0   8.0     76    9.0   29  2010    76      PS\n",
      "152   20.0    223.0  11.5     68    9.0   30  2010    68       S\n",
      "153   41.0    190.0   7.4     67    5.0    1  2010    67       C\n",
      "154   30.0    193.0   6.9     70    9.0   26  2010    70      PS\n",
      "155    NaN    145.0  13.2     77    9.0   27  2010    77       S\n",
      "157   18.0    131.0   8.0     76    9.0   29  2010    76       C\n",
      "<class 'pandas.core.frame.DataFrame'>\n",
      "Index: 157 entries, 0 to 157\n",
      "Data columns (total 9 columns):\n",
      " #   Column   Non-Null Count  Dtype  \n",
      "---  ------   --------------  -----  \n",
      " 0   Ozone    119 non-null    float64\n",
      " 1   Solar.R  150 non-null    float64\n",
      " 2   Wind     157 non-null    float64\n",
      " 3   Temp C   157 non-null    object \n",
      " 4   Month    156 non-null    float64\n",
      " 5   Day      157 non-null    int64  \n",
      " 6   Year     157 non-null    int64  \n",
      " 7   Temp     157 non-null    int64  \n",
      " 8   Weather  154 non-null    object \n",
      "dtypes: float64(4), int64(3), object(2)\n",
      "memory usage: 12.3+ KB\n"
     ]
    }
   ],
   "source": [
    "# drop duplicated rows\n",
    "dt1.drop_duplicates(keep=\"first\",inplace=True)\n",
    "print(dt1.tail(9))\n",
    "dt1.info()"
   ]
  },
  {
   "cell_type": "code",
   "execution_count": 22,
   "id": "65e2a9f8-7135-4ebe-90b9-dcc39008f229",
   "metadata": {},
   "outputs": [
    {
     "name": "stdout",
     "output_type": "stream",
     "text": [
      "     Ozone  Solar  Wind Temp C  Month  Day  Year  Temp Weather\n",
      "0     41.0  190.0   7.4     67    5.0    1  2010    67       S\n",
      "1     36.0  118.0   8.0     72    5.0    2  2010    72       C\n",
      "2     12.0  149.0  12.6     74    5.0    3  2010    74      PS\n",
      "3     18.0  313.0  11.5     62    5.0    4  2010    62       S\n",
      "4      NaN    NaN  14.3     56    5.0    5  2010    56       S\n",
      "..     ...    ...   ...    ...    ...  ...   ...   ...     ...\n",
      "152   20.0  223.0  11.5     68    9.0   30  2010    68       S\n",
      "153   41.0  190.0   7.4     67    5.0    1  2010    67       C\n",
      "154   30.0  193.0   6.9     70    9.0   26  2010    70      PS\n",
      "155    NaN  145.0  13.2     77    9.0   27  2010    77       S\n",
      "157   18.0  131.0   8.0     76    9.0   29  2010    76       C\n",
      "\n",
      "[157 rows x 9 columns]\n"
     ]
    }
   ],
   "source": [
    "dt1.rename({'Solar.R':'Solar'},axis=1,inplace=True)\n",
    "print(dt1)\n"
   ]
  },
  {
   "cell_type": "markdown",
   "id": "93825668-c590-4cc1-8dad-ef7eb0f3b6d5",
   "metadata": {},
   "source": [
    "#### Impute the missing values"
   ]
  },
  {
   "cell_type": "code",
   "execution_count": 25,
   "id": "9e56e274-9a27-43e1-8b26-fd7830f6b000",
   "metadata": {},
   "outputs": [
    {
     "name": "stdout",
     "output_type": "stream",
     "text": [
      "<class 'pandas.core.frame.DataFrame'>\n",
      "Index: 157 entries, 0 to 157\n",
      "Data columns (total 9 columns):\n",
      " #   Column   Non-Null Count  Dtype  \n",
      "---  ------   --------------  -----  \n",
      " 0   Ozone    119 non-null    float64\n",
      " 1   Solar    150 non-null    float64\n",
      " 2   Wind     157 non-null    float64\n",
      " 3   Temp C   157 non-null    object \n",
      " 4   Month    156 non-null    float64\n",
      " 5   Day      157 non-null    int64  \n",
      " 6   Year     157 non-null    int64  \n",
      " 7   Temp     157 non-null    int64  \n",
      " 8   Weather  154 non-null    object \n",
      "dtypes: float64(4), int64(3), object(2)\n",
      "memory usage: 12.3+ KB\n"
     ]
    }
   ],
   "source": [
    "dt1.info()"
   ]
  },
  {
   "cell_type": "code",
   "execution_count": 36,
   "id": "52871205-7be0-4951-863f-b9d2b2e11526",
   "metadata": {},
   "outputs": [
    {
     "data": {
      "text/plain": [
       "Ozone      38\n",
       "Solar       7\n",
       "Wind        0\n",
       "Temp C      0\n",
       "Month       1\n",
       "Day         0\n",
       "Year        0\n",
       "Temp        0\n",
       "Weather     3\n",
       "dtype: int64"
      ]
     },
     "execution_count": 36,
     "metadata": {},
     "output_type": "execute_result"
    }
   ],
   "source": [
    "dt1.isnull().sum() #display sum of null values in dataset"
   ]
  },
  {
   "cell_type": "code",
   "execution_count": 51,
   "id": "842ec2e3-2917-48ea-8705-e09ae462c188",
   "metadata": {},
   "outputs": [
    {
     "name": "stdout",
     "output_type": "stream",
     "text": [
      "Index(['Ozone', 'Solar', 'Wind', 'Temp C', 'Month', 'Day', 'Year', 'Temp',\n",
      "       'Weather'],\n",
      "      dtype='object')\n"
     ]
    },
    {
     "data": {
      "image/png": "[encoded data removed]",
      "text/plain": [
       "<Figure size 640x480 with 2 Axes>"
      ]
     },
     "metadata": {},
     "output_type": "display_data"
    }
   ],
   "source": [
    "cols=dt1.columns\n",
    "color=['black','yellow','blue','silver']\n",
    "sns.heatmap(dt1[cols].isnull(),cmap=sns.color_palette(color),cbar=True)\n",
    "print(cols)\n"
   ]
  },
  {
   "cell_type": "code",
   "execution_count": 52,
   "id": "f13c5e55-f1f2-45e0-a48a-b0f932e981b1",
   "metadata": {},
   "outputs": [
    {
     "name": "stdout",
     "output_type": "stream",
     "text": [
      "Median of ozone:  31.0\n",
      "Mean of ozone:  41.81512605042017\n"
     ]
    }
   ],
   "source": [
    "med_oz=dt1[\"Ozone\"].median()\n",
    "mean_oz=dt1['Ozone'].mean()\n",
    "print(\"Median of ozone: \",med_oz)\n",
    "print(\"Mean of ozone: \",mean_oz)"
   ]
  },
  {
   "cell_type": "code",
   "execution_count": 56,
   "id": "00c3a29f-de97-4ea1-8a6a-7c26c4533d5e",
   "metadata": {},
   "outputs": [
    {
     "data": {
      "text/plain": [
       "Ozone      0\n",
       "Solar      7\n",
       "Wind       0\n",
       "Temp C     0\n",
       "Month      1\n",
       "Day        0\n",
       "Year       0\n",
       "Temp       0\n",
       "Weather    3\n",
       "dtype: int64"
      ]
     },
     "execution_count": 56,
     "metadata": {},
     "output_type": "execute_result"
    }
   ],
   "source": [
    "dt1['Ozone']=dt1['Ozone'].fillna(med_oz)\n",
    "dt1.isnull().sum()\n"
   ]
  },
  {
   "cell_type": "code",
   "execution_count": 63,
   "id": "3a05a6e3-555e-42f4-8863-996d54e2cfd7",
   "metadata": {},
   "outputs": [
    {
     "name": "stdout",
     "output_type": "stream",
     "text": [
      "Median of solor:  193.0\n",
      "Mean of solor:  185.36666666666667\n",
      "     Ozone       Solar  Wind Temp C  Month  Day  Year  Temp Weather\n",
      "0     41.0  190.000000   7.4     67    5.0    1  2010    67       S\n",
      "1     36.0  118.000000   8.0     72    5.0    2  2010    72       C\n",
      "2     12.0  149.000000  12.6     74    5.0    3  2010    74      PS\n",
      "3     18.0  313.000000  11.5     62    5.0    4  2010    62       S\n",
      "4     31.0  185.366667  14.3     56    5.0    5  2010    56       S\n",
      "..     ...         ...   ...    ...    ...  ...   ...   ...     ...\n",
      "152   20.0  223.000000  11.5     68    9.0   30  2010    68       S\n",
      "153   41.0  190.000000   7.4     67    5.0    1  2010    67       C\n",
      "154   30.0  193.000000   6.9     70    9.0   26  2010    70      PS\n",
      "155   31.0  145.000000  13.2     77    9.0   27  2010    77       S\n",
      "157   18.0  131.000000   8.0     76    9.0   29  2010    76       C\n",
      "\n",
      "[157 rows x 9 columns]\n"
     ]
    },
    {
     "data": {
      "text/plain": [
       "Ozone      0\n",
       "Solar      0\n",
       "Wind       0\n",
       "Temp C     0\n",
       "Month      1\n",
       "Day        0\n",
       "Year       0\n",
       "Temp       0\n",
       "Weather    3\n",
       "dtype: int64"
      ]
     },
     "execution_count": 63,
     "metadata": {},
     "output_type": "execute_result"
    }
   ],
   "source": [
    "med_sol=dt1[\"Solar\"].median()\n",
    "#mean_sol=dt1['Solar'].mean()\n",
    "print(\"Median of solor: \",med_sol)\n",
    "print(\"Mean of solor: \",mean_sol)\n",
    "dt1['Solar']=dt1['Solar'].fillna(dt1[\"Solar\"].mean())\n",
    "print(dt1)\n",
    "dt1.isnull().sum()"
   ]
  },
  {
   "cell_type": "code",
   "execution_count": null,
   "id": "8a5958d9-1993-4d9f-a2f7-030ccadf117d",
   "metadata": {},
   "outputs": [],
   "source": []
  },
  {
   "cell_type": "code",
   "execution_count": null,
   "id": "f23e0731-c258-4a27-8981-d612e01d47ce",
   "metadata": {},
   "outputs": [],
   "source": []
  }
 ],
 "metadata": {
  "kernelspec": {
   "display_name": "Python 3 (ipykernel)",
   "language": "python",
   "name": "python3"
  },
  "language_info": {
   "codemirror_mode": {
    "name": "ipython",
    "version": 3
   },
   "file_extension": ".py",
   "mimetype": "text/x-python",
   "name": "python",
   "nbconvert_exporter": "python",
   "pygments_lexer": "ipython3",
   "version": "3.12.7"
  }
 },
 "nbformat": 4,
 "nbformat_minor": 5
}
