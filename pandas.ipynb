{
 "cells": [
  {
   "cell_type": "code",
   "execution_count": 2,
   "id": "e26b66bf-88e9-4e73-92dd-bbd63a4aeb51",
   "metadata": {},
   "outputs": [],
   "source": [
    "import pandas as pd"
   ]
  },
  {
   "cell_type": "code",
   "execution_count": 6,
   "id": "b6fd5feb-b257-4aec-953f-1517ed5a903a",
   "metadata": {},
   "outputs": [
    {
     "name": "stdout",
     "output_type": "stream",
     "text": [
      "0    1\n",
      "1    2\n",
      "2    3\n",
      "3    4\n",
      "4    5\n",
      "dtype: int64\n"
     ]
    }
   ],
   "source": [
    "d=[1,2,3,4,5]\n",
    "\n",
    "res=pd.Series(d) #using default index\n",
    "print(res)\n"
   ]
  },
  {
   "cell_type": "code",
   "execution_count": 7,
   "id": "d7905ce4-e69f-4713-bd6a-248c37ac077a",
   "metadata": {},
   "outputs": [
    {
     "name": "stdout",
     "output_type": "stream",
     "text": [
      "A    1\n",
      "B    2\n",
      "C    3\n",
      "D    4\n",
      "E    5\n",
      "dtype: int64\n"
     ]
    }
   ],
   "source": [
    "d=[1,2,3,4,5]\n",
    "i=[\"A\",\"B\",\"C\",\"D\",\"E\"]\n",
    "res=pd.Series(d,index=i) #using custom index\n",
    "print(res)\n"
   ]
  },
  {
   "cell_type": "code",
   "execution_count": 20,
   "id": "1a29dd7a-93d4-42ef-b997-f6deb9ef7d61",
   "metadata": {},
   "outputs": [
    {
     "name": "stdout",
     "output_type": "stream",
     "text": [
      " {'a': 45, 'b': 46} \n",
      " {'a': 1, 'b': 2, 'c': 3, 'd': 4, 'e': 5}\n",
      "a    45\n",
      "b    46\n",
      "dtype: int64\n"
     ]
    }
   ],
   "source": [
    "d={'a':1,'b':2,'c':3,'d':4,'e':5}\n",
    "d1=dict([('a',45),('b',46)])\n",
    "dc=d1.copy()\n",
    "\n",
    "print('',d1,'\\n',d)\n",
    "ser=pd.Series(dc)\n",
    "print(ser)\n",
    "\n",
    "#pd.Series(d)"
   ]
  },
  {
   "cell_type": "code",
   "execution_count": 21,
   "id": "31acd3e8-f5d1-46af-9775-7b581ef64c6e",
   "metadata": {},
   "outputs": [
    {
     "data": {
      "text/plain": [
       "a    45\n",
       "b    69\n",
       "dtype: int64"
      ]
     },
     "execution_count": 21,
     "metadata": {},
     "output_type": "execute_result"
    }
   ],
   "source": [
    "ser.replace(46,69)"
   ]
  },
  {
   "cell_type": "code",
   "execution_count": 23,
   "id": "deea9a4f-6286-415b-805e-d1d13164adec",
   "metadata": {},
   "outputs": [
    {
     "name": "stdout",
     "output_type": "stream",
     "text": [
      "a    3746\n",
      "b     328\n",
      "c     287\n",
      "d    5498\n",
      "dtype: int32\n"
     ]
    }
   ],
   "source": [
    "import numpy as np\n",
    "dat=np.array([3746,328,287,5498])\n",
    "ser1=pd.Series(dat,index=['a','b','c','d'])\n",
    "print(ser1)\n"
   ]
  },
  {
   "cell_type": "code",
   "execution_count": 31,
   "id": "ffca13c8-00a6-48a2-97a8-672ff6290303",
   "metadata": {},
   "outputs": [
    {
     "name": "stdout",
     "output_type": "stream",
     "text": [
      "    name  Age\n",
      "1   Tony   60\n",
      "2  Peter   28\n",
      "3    Cap  120\n"
     ]
    }
   ],
   "source": [
    "dat={'name':['Tony','Peter','Cap'],'Age':[60,28,120]}\n",
    "df=pd.DataFrame(dat,index=['1','2','3'])\n",
    "print(df)\n",
    "\n"
   ]
  },
  {
   "cell_type": "code",
   "execution_count": 33,
   "id": "fa520487-b879-48e8-94a4-a255a7140ae9",
   "metadata": {},
   "outputs": [
    {
     "name": "stdout",
     "output_type": "stream",
     "text": [
      "[[1 2 3]\n",
      " [4 5 6]\n",
      " [7 8 9]]\n",
      "   a  b  c\n",
      "1  1  2  3\n",
      "2  4  5  6\n",
      "3  7  8  9\n"
     ]
    }
   ],
   "source": [
    "ar=np.array([[1,2,3],[4,5,6],[7,8,9]])\n",
    "print(ar)\n",
    "df=pd.DataFrame(ar,columns=['a','b','c'],index=[1,2,3])\n",
    "print(df)\n"
   ]
  },
  {
   "cell_type": "code",
   "execution_count": 35,
   "id": "3cfb445f-c89a-4378-89b3-11f3351743f1",
   "metadata": {},
   "outputs": [
    {
     "name": "stdout",
     "output_type": "stream",
     "text": [
      "[['Tony', 60], ['Cap', 120], ['Peter', 27]]\n",
      "    Name  Age\n",
      "0   Tony   60\n",
      "1    Cap  120\n",
      "2  Peter   27\n"
     ]
    }
   ],
   "source": [
    "dat=[['Tony',60],['Cap',120],['Peter',27]]\n",
    "print(dat)\n",
    "df=pd.DataFrame(dat,columns=[\"Name\",\"Age\"])\n",
    "print(df)\n",
    "\n",
    "\n"
   ]
  },
  {
   "cell_type": "code",
   "execution_count": null,
   "id": "2a51befe-1bc6-4537-a4f4-7f5a17da0ed8",
   "metadata": {},
   "outputs": [],
   "source": []
  }
 ],
 "metadata": {
  "kernelspec": {
   "display_name": "Python 3 (ipykernel)",
   "language": "python",
   "name": "python3"
  },
  "language_info": {
   "codemirror_mode": {
    "name": "ipython",
    "version": 3
   },
   "file_extension": ".py",
   "mimetype": "text/x-python",
   "name": "python",
   "nbconvert_exporter": "python",
   "pygments_lexer": "ipython3",
   "version": "3.12.7"
  }
 },
 "nbformat": 4,
 "nbformat_minor": 5
}
