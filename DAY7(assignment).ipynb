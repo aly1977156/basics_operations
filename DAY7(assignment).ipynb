{
 "cells": [
  {
   "cell_type": "code",
   "execution_count": 11,
   "id": "73c7f37d",
   "metadata": {},
   "outputs": [],
   "source": [
    "import pandas as pd"
   ]
  },
  {
   "cell_type": "code",
   "execution_count": 6,
   "id": "64c6fc61",
   "metadata": {},
   "outputs": [
    {
     "name": "stdout",
     "output_type": "stream",
     "text": [
      "First 5 rows of the dataset:\n",
      "         Date Product Region    Sales  Profit  Quantity  Profit Margin (%)\n",
      "0  2023-01-02  Tablet   East  1061.81  236.12         7          22.237500\n",
      "1  2023-01-06  Laptop  North  1926.07  246.34         8          12.789774\n",
      "2  2023-01-03  Tablet   East  1597.99  253.17         3          15.843028\n",
      "3  2023-01-20  Tablet  North  1397.99  242.23         1          17.327020\n",
      "4  2023-01-04  Laptop   West   734.03  140.36         4          19.121834\n"
     ]
    }
   ],
   "source": [
    "# Display the first 5 rows of the dataset\n",
    "print(\"First 5 rows of the dataset:\")\n",
    "print(sales_data.head())"
   ]
  },
  {
   "cell_type": "code",
   "execution_count": 7,
   "id": "553e8be8",
   "metadata": {},
   "outputs": [
    {
     "name": "stdout",
     "output_type": "stream",
     "text": [
      "\n",
      "Basic statistics of numerical columns:\n",
      "             Sales      Profit   Quantity  Profit Margin (%)\n",
      "count    20.000000   20.000000  20.000000          20.000000\n",
      "mean   1186.553000  211.533000   5.050000          19.096564\n",
      "std     461.528444   66.916251   2.543826           5.823570\n",
      "min     530.880000   82.160000   1.000000          10.928808\n",
      "25%     774.517500  166.515000   2.750000          13.847790\n",
      "50%    1104.865000  214.670000   5.000000          18.962202\n",
      "75%    1571.080000  248.047500   7.250000          22.599269\n",
      "max    1954.860000  364.970000   9.000000          29.312576\n"
     ]
    }
   ],
   "source": [
    "# Print basic statistics of numerical columns\n",
    "print(\"\\nBasic statistics of numerical columns:\")\n",
    "print(sales_data.describe())"
   ]
  },
  {
   "cell_type": "code",
   "execution_count": 8,
   "id": "aa415b1f",
   "metadata": {},
   "outputs": [
    {
     "name": "stdout",
     "output_type": "stream",
     "text": [
      "\n",
      "Total sales for each region:\n",
      "Region\n",
      "East      5818.93\n",
      "North    10449.68\n",
      "South      936.84\n",
      "West      6525.61\n",
      "Name: Sales, dtype: float64\n"
     ]
    }
   ],
   "source": [
    "# Calculate the total sales for each region\n",
    "total_sales_by_region = sales_data.groupby(\"Region\")[\"Sales\"].sum()\n",
    "print(\"\\nTotal sales for each region:\")\n",
    "print(total_sales_by_region)\n"
   ]
  },
  {
   "cell_type": "code",
   "execution_count": 9,
   "id": "facad08b",
   "metadata": {},
   "outputs": [
    {
     "name": "stdout",
     "output_type": "stream",
     "text": [
      "\n",
      "Most sold product (based on quantity): Tablet\n"
     ]
    }
   ],
   "source": [
    "# Find the most sold product (based on quantity)\n",
    "most_sold_product = sales_data.groupby(\"Product\")[\"Quantity\"].sum().idxmax()\n",
    "print(\"\\nMost sold product (based on quantity):\", most_sold_product)"
   ]
  },
  {
   "cell_type": "code",
   "execution_count": 10,
   "id": "78828894",
   "metadata": {},
   "outputs": [
    {
     "name": "stdout",
     "output_type": "stream",
     "text": [
      "\n",
      "Average profit margin for each product:\n",
      "Product\n",
      "Keyboard      20.080696\n",
      "Laptop        17.112734\n",
      "Monitor       15.134989\n",
      "Smartphone    23.703647\n",
      "Tablet        19.955758\n",
      "Name: Profit Margin (%), dtype: float64\n"
     ]
    }
   ],
   "source": [
    "# Compute the average profit margin for each product\n",
    "sales_data[\"Profit Margin (%)\"] = (sales_data[\"Profit\"] / sales_data[\"Sales\"]) * 100\n",
    "average_profit_margin = sales_data.groupby(\"Product\")[\"Profit Margin (%)\"].mean()\n",
    "print(\"\\nAverage profit margin for each product:\")\n",
    "print(average_profit_margin)"
   ]
  }
 ],
 "metadata": {
  "kernelspec": {
   "display_name": "Python [conda env:base] *",
   "language": "python",
   "name": "conda-base-py"
  },
  "language_info": {
   "codemirror_mode": {
    "name": "ipython",
    "version": 3
   },
   "file_extension": ".py",
   "mimetype": "text/x-python",
   "name": "python",
   "nbconvert_exporter": "python",
   "pygments_lexer": "ipython3",
   "version": "3.12.7"
  }
 },
 "nbformat": 4,
 "nbformat_minor": 5
}
