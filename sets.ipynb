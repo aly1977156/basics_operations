{
 "cells": [
  {
   "cell_type": "code",
   "execution_count": 1,
   "id": "f0987876-1829-40e1-af86-cbe2de88d836",
   "metadata": {},
   "outputs": [
    {
     "data": {
      "text/plain": [
       "{3, 4}"
      ]
     },
     "execution_count": 1,
     "metadata": {},
     "output_type": "execute_result"
    }
   ],
   "source": [
    "s1={1,2,3,4}\n",
    "s2={3,4,5,6}\n",
    "s1 & s2\n"
   ]
  },
  {
   "cell_type": "code",
   "execution_count": 11,
   "id": "0a834b1e-bb76-4d60-9fe2-cf0b8976bb48",
   "metadata": {},
   "outputs": [
    {
     "data": {
      "text/plain": [
       "{1, 2, 5, 6}"
      ]
     },
     "execution_count": 11,
     "metadata": {},
     "output_type": "execute_result"
    }
   ],
   "source": [
    "s1 ^ s2"
   ]
  },
  {
   "cell_type": "code",
   "execution_count": 8,
   "id": "90de1e80-5493-41de-bd56-e9ea0f7978b4",
   "metadata": {},
   "outputs": [
    {
     "data": {
      "text/plain": [
       "{1, 2}"
      ]
     },
     "execution_count": 8,
     "metadata": {},
     "output_type": "execute_result"
    }
   ],
   "source": [
    "s1-s2 #difference"
   ]
  },
  {
   "cell_type": "code",
   "execution_count": 10,
   "id": "84f30dc0-6faf-4951-a75b-71a4af64d81e",
   "metadata": {},
   "outputs": [
    {
     "data": {
      "text/plain": [
       "{1, 2, 5, 6}"
      ]
     },
     "execution_count": 10,
     "metadata": {},
     "output_type": "execute_result"
    }
   ],
   "source": [
    "s1.symmetric_difference(s2) "
   ]
  },
  {
   "cell_type": "code",
   "execution_count": 13,
   "id": "1791d3a1-b532-444d-ad24-ad8819644b7b",
   "metadata": {},
   "outputs": [
    {
     "data": {
      "text/plain": [
       "{1, 2, 5, 6}"
      ]
     },
     "execution_count": 13,
     "metadata": {},
     "output_type": "execute_result"
    }
   ],
   "source": [
    "s2.symmetric_difference(s1)"
   ]
  },
  {
   "cell_type": "code",
   "execution_count": 16,
   "id": "34cc847c-21f0-40b4-a4bf-93c9ea48d4a0",
   "metadata": {},
   "outputs": [
    {
     "name": "stdout",
     "output_type": "stream",
     "text": [
      " welcome to aiml \n",
      " python started \n",
      " this is nice\n"
     ]
    }
   ],
   "source": [
    "str1=\"welcome to aiml\"\n",
    "str2=\"python started\"\n",
    "str3=\"this is nice\"\n",
    "print(\"\",str1,\"\\n\",str2,\"\\n\",str3)\n",
    "\n",
    "\n"
   ]
  },
  {
   "cell_type": "code",
   "execution_count": 44,
   "id": "da4daee3-362f-43cc-b3ae-6a3eea744c61",
   "metadata": {},
   "outputs": [
    {
     "name": "stdout",
     "output_type": "stream",
     "text": [
      "he said,\"it's awesome\"\n",
      "<class 'str'>\n"
     ]
    }
   ],
   "source": [
    "str4='''he said,\"it\\'s awesome\"'''\n",
    "print(str4)\n",
    "print(type(str4))"
   ]
  },
  {
   "cell_type": "code",
   "execution_count": 45,
   "id": "cf498fb3-1613-4691-a762-71c406857a35",
   "metadata": {},
   "outputs": [
    {
     "data": {
      "text/plain": [
       "'said,\"it\\'s awesome\"'"
      ]
     },
     "execution_count": 45,
     "metadata": {},
     "output_type": "execute_result"
    }
   ],
   "source": [
    "str4[3:]"
   ]
  },
  {
   "cell_type": "code",
   "execution_count": 35,
   "id": "bdffb8d7-a15d-47b4-b7f1-bc0ca4ec670d",
   "metadata": {},
   "outputs": [
    {
     "data": {
      "text/plain": [
       "'he said,\"it\\'s awesome\"'"
      ]
     },
     "execution_count": 35,
     "metadata": {},
     "output_type": "execute_result"
    }
   ],
   "source": [
    "str4[:]"
   ]
  },
  {
   "cell_type": "code",
   "execution_count": 36,
   "id": "c17ddbdd-79cd-4557-904d-4532a517cf38",
   "metadata": {},
   "outputs": [
    {
     "data": {
      "text/plain": [
       "'\"emosewa s\\'ti\",dias eh'"
      ]
     },
     "execution_count": 36,
     "metadata": {},
     "output_type": "execute_result"
    }
   ],
   "source": [
    "str4[::-1]"
   ]
  },
  {
   "cell_type": "code",
   "execution_count": 41,
   "id": "e8afd4db-21c6-4af1-9c4a-0d93f297500e",
   "metadata": {},
   "outputs": [
    {
     "data": {
      "text/plain": [
       "'he said,\"it\\'s awesome\"'"
      ]
     },
     "execution_count": 41,
     "metadata": {},
     "output_type": "execute_result"
    }
   ],
   "source": [
    "str4[::1]"
   ]
  },
  {
   "cell_type": "code",
   "execution_count": 42,
   "id": "c6edd632-02a8-44fb-8a8a-b0530f7ca2c2",
   "metadata": {},
   "outputs": [
    {
     "data": {
      "text/plain": [
       "['__add__',\n",
       " '__class__',\n",
       " '__contains__',\n",
       " '__delattr__',\n",
       " '__dir__',\n",
       " '__doc__',\n",
       " '__eq__',\n",
       " '__format__',\n",
       " '__ge__',\n",
       " '__getattribute__',\n",
       " '__getitem__',\n",
       " '__getnewargs__',\n",
       " '__getstate__',\n",
       " '__gt__',\n",
       " '__hash__',\n",
       " '__init__',\n",
       " '__init_subclass__',\n",
       " '__iter__',\n",
       " '__le__',\n",
       " '__len__',\n",
       " '__lt__',\n",
       " '__mod__',\n",
       " '__mul__',\n",
       " '__ne__',\n",
       " '__new__',\n",
       " '__reduce__',\n",
       " '__reduce_ex__',\n",
       " '__repr__',\n",
       " '__rmod__',\n",
       " '__rmul__',\n",
       " '__setattr__',\n",
       " '__sizeof__',\n",
       " '__str__',\n",
       " '__subclasshook__',\n",
       " 'capitalize',\n",
       " 'casefold',\n",
       " 'center',\n",
       " 'count',\n",
       " 'encode',\n",
       " 'endswith',\n",
       " 'expandtabs',\n",
       " 'find',\n",
       " 'format',\n",
       " 'format_map',\n",
       " 'index',\n",
       " 'isalnum',\n",
       " 'isalpha',\n",
       " 'isascii',\n",
       " 'isdecimal',\n",
       " 'isdigit',\n",
       " 'isidentifier',\n",
       " 'islower',\n",
       " 'isnumeric',\n",
       " 'isprintable',\n",
       " 'isspace',\n",
       " 'istitle',\n",
       " 'isupper',\n",
       " 'join',\n",
       " 'ljust',\n",
       " 'lower',\n",
       " 'lstrip',\n",
       " 'maketrans',\n",
       " 'partition',\n",
       " 'removeprefix',\n",
       " 'removesuffix',\n",
       " 'replace',\n",
       " 'rfind',\n",
       " 'rindex',\n",
       " 'rjust',\n",
       " 'rpartition',\n",
       " 'rsplit',\n",
       " 'rstrip',\n",
       " 'split',\n",
       " 'splitlines',\n",
       " 'startswith',\n",
       " 'strip',\n",
       " 'swapcase',\n",
       " 'title',\n",
       " 'translate',\n",
       " 'upper',\n",
       " 'zfill']"
      ]
     },
     "execution_count": 42,
     "metadata": {},
     "output_type": "execute_result"
    }
   ],
   "source": [
    "dir(str)"
   ]
  },
  {
   "cell_type": "code",
   "execution_count": 46,
   "id": "740545a7-4324-46d9-b184-8be8c0ce7566",
   "metadata": {},
   "outputs": [
    {
     "data": {
      "text/plain": [
       "['he said,\"it\\'s awesome\"']"
      ]
     },
     "execution_count": 46,
     "metadata": {},
     "output_type": "execute_result"
    }
   ],
   "source": [
    "str4.splitlines()"
   ]
  },
  {
   "cell_type": "code",
   "execution_count": 49,
   "id": "ab0cbb41-a961-498d-95e2-2b50c48ab372",
   "metadata": {},
   "outputs": [
    {
     "data": {
      "text/plain": [
       "['he', 'said,\"it\\'s', 'awesome\"']"
      ]
     },
     "execution_count": 49,
     "metadata": {},
     "output_type": "execute_result"
    }
   ],
   "source": [
    "str4.split()"
   ]
  },
  {
   "cell_type": "code",
   "execution_count": 56,
   "id": "0c382efe-b6ee-4ec0-a3d1-e158841cf17a",
   "metadata": {},
   "outputs": [
    {
     "data": {
      "text/plain": [
       "17"
      ]
     },
     "execution_count": 56,
     "metadata": {},
     "output_type": "execute_result"
    }
   ],
   "source": [
    "str4.rfind(\"s\")"
   ]
  },
  {
   "cell_type": "code",
   "execution_count": 57,
   "id": "0bfb20e0-bd8b-464f-9516-1cbd975d7d21",
   "metadata": {},
   "outputs": [
    {
     "data": {
      "text/plain": [
       "'she said,\"it\\'s awesome\"'"
      ]
     },
     "execution_count": 57,
     "metadata": {},
     "output_type": "execute_result"
    }
   ],
   "source": [
    "str4.replace(\"h\",\"sh\")"
   ]
  },
  {
   "cell_type": "code",
   "execution_count": 69,
   "id": "54603146-6aa8-4504-af09-ce3cfbb94fd7",
   "metadata": {},
   "outputs": [
    {
     "data": {
      "text/plain": [
       "'hello there'"
      ]
     },
     "execution_count": 69,
     "metadata": {},
     "output_type": "execute_result"
    }
   ],
   "source": [
    "r=[\"hello\",\"there\"]\n",
    "' '.join(r)\n"
   ]
  },
  {
   "cell_type": "code",
   "execution_count": 77,
   "id": "85031a58-4291-4741-b7c4-8175090e402b",
   "metadata": {},
   "outputs": [
    {
     "data": {
      "text/plain": [
       "'Wrong Wrong   person'"
      ]
     },
     "execution_count": 77,
     "metadata": {},
     "output_type": "execute_result"
    }
   ],
   "source": [
    "str5=\"Wrong Wrong   person\"\n",
    "str5.strip()"
   ]
  },
  {
   "cell_type": "code",
   "execution_count": 79,
   "id": "91a1bd72-83bc-4439-acb9-160aeaa41ad9",
   "metadata": {},
   "outputs": [],
   "source": [
    "# Example dictionary for product sales analysis\n",
    "sales_data = {\n",
    "    \"ProductID\": [101, 102, 103, 104, 105, 106, 107, 108, 109, 110],\n",
    "    \"ProductName\": [\"Laptop\", \"Mouse\", \"Keyboard\", \"Monitor\", \"Chair\", \"Desk\", \"Webcam\", \"Headphones\", \"Printer\", \"Tablet\"],\n",
    "    \"Category\": [\"Electronics\", \"Accessories\", \"Accessories\", \"Electronics\", \"Furniture\", \"Furniture\", \"Electronics\", \"Accessories\", \"Electronics\", \"Electronics\"],\n",
    "    \"PriceRange\": [\"High\", \"Low\", \"Low\", \"Medium\", \"Medium\", \"Medium\", \"Low\", \"Low\", \"Medium\", \"High\"],\n",
    "    \"StockAvailable\": [15, 100, 75, 20, 10, 8, 50, 60, 25, 12],\n",
    "}"
   ]
  },
  {
   "cell_type": "code",
   "execution_count": 83,
   "id": "f9ed8d84-e4a5-4623-acc7-a145711cf8e4",
   "metadata": {},
   "outputs": [
    {
     "name": "stdout",
     "output_type": "stream",
     "text": [
      "ProductID {101, 102, 103, 104, 105, 106, 107, 108, 109, 110},\n",
      "\n",
      "ProductName {'Laptop', 'Printer', 'Headphones', 'Desk', 'Chair', 'Keyboard', 'Tablet', 'Mouse', 'Monitor', 'Webcam'},\n",
      "\n",
      "Category {'Electronics', 'Accessories', 'Furniture'},\n",
      "\n",
      "PriceRange {'Low', 'High', 'Medium'},\n",
      "\n",
      "StockAvailable {100, 8, 10, 75, 12, 15, 50, 20, 25, 60},\n",
      "\n"
     ]
    }
   ],
   "source": [
    "for x,y in sales_data.items():\n",
    "    print(x,set(y),end=\",\")\n",
    "    print('\\n')\n"
   ]
  },
  {
   "cell_type": "markdown",
   "id": "dc42efce-d62c-46d4-a98f-07ae5f23e7b0",
   "metadata": {},
   "source": [
    "#### Industry use case data on reviews analysis, Example 2"
   ]
  },
  {
   "cell_type": "code",
   "execution_count": 112,
   "id": "a068752d-b32a-473f-8300-e4a7513bf8cd",
   "metadata": {},
   "outputs": [
    {
     "data": {
      "text/plain": [
       "{'Review1': {'WordCount': 14,\n",
       "  'UniqueWords': ['the',\n",
       "   'and',\n",
       "   'is',\n",
       "   'was',\n",
       "   'functionality',\n",
       "   'quality',\n",
       "   'prompt',\n",
       "   'delivery',\n",
       "   'product',\n",
       "   'excellent',\n",
       "   'versatile']},\n",
       " 'Review2': {'WordCount': 15,\n",
       "  'UniqueWords': ['good',\n",
       "   'the',\n",
       "   'have',\n",
       "   'improve',\n",
       "   'been',\n",
       "   'customer',\n",
       "   'packaging',\n",
       "   'has',\n",
       "   'could',\n",
       "   'to',\n",
       "   'better',\n",
       "   'service',\n",
       "   'but']},\n",
       " 'Review3': {'WordCount': 18,\n",
       "  'UniqueWords': ['helpful',\n",
       "   'the',\n",
       "   'not',\n",
       "   'support',\n",
       "   'i',\n",
       "   'customer',\n",
       "   'as',\n",
       "   'is',\n",
       "   'fine',\n",
       "   'rate',\n",
       "   'very',\n",
       "   'product',\n",
       "   'works',\n",
       "   'excellent',\n",
       "   'but']}}"
      ]
     },
     "execution_count": 112,
     "metadata": {},
     "output_type": "execute_result"
    }
   ],
   "source": [
    "# Original reviews dictionary\n",
    "reviews = {\n",
    "    \"Review1\": \"The product quality is excellent and delivery was prompt. The product functionality is versatile\",\n",
    "    \"Review2\": \"Good service but the packaging could have been better. The customer service has to improve\",\n",
    "    \"Review3\": \"The product works fine, but the customer support is not very helpful. I rate the product as excellent\",\n",
    "}\n",
    "\n",
    "# Result dictionary to store analysis of reviews\n",
    "review_analysis = {}\n",
    "\n",
    "# Process each review\n",
    "for key, review in reviews.items():\n",
    "    # Split the review into words\n",
    "    words = review.lower().replace('.', '').replace(',', '').split()\n",
    "    # Create a sub-dictionary with word count and unique words\n",
    "    review_analysis[key] = {\n",
    "        \"WordCount\": len(words),\n",
    "        \"UniqueWords\": list(set(words))\n",
    "    }\n",
    "\n",
    "review_analysis\n"
   ]
  },
  {
   "cell_type": "markdown",
   "id": "28523b98-3bd7-4517-9c91-b2380ba42fa0",
   "metadata": {},
   "source": []
  },
  {
   "cell_type": "code",
   "execution_count": null,
   "id": "01940e95-eeae-4a15-b294-7924a1b2544f",
   "metadata": {},
   "outputs": [],
   "source": []
  }
 ],
 "metadata": {
  "kernelspec": {
   "display_name": "Python 3 (ipykernel)",
   "language": "python",
   "name": "python3"
  },
  "language_info": {
   "codemirror_mode": {
    "name": "ipython",
    "version": 3
   },
   "file_extension": ".py",
   "mimetype": "text/x-python",
   "name": "python",
   "nbconvert_exporter": "python",
   "pygments_lexer": "ipython3",
   "version": "3.12.7"
  }
 },
 "nbformat": 4,
 "nbformat_minor": 5
}
