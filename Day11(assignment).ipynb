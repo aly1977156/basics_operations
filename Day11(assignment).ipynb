{
 "cells": [
  {
   "cell_type": "code",
   "execution_count": 1,
   "id": "9e40cf4e-02be-444c-9981-80b657408bf2",
   "metadata": {},
   "outputs": [],
   "source": [
    "import pandas as pd"
   ]
  },
  {
   "cell_type": "code",
   "execution_count": 3,
   "id": "fa6394e5-c31c-42d5-9ec6-eb9ee1a7e2ee",
   "metadata": {},
   "outputs": [],
   "source": [
    "df = pd.read_csv('banking_data.csv')"
   ]
  },
  {
   "cell_type": "code",
   "execution_count": 5,
   "id": "58a6b4be-6009-492d-a69f-5c60dd9588be",
   "metadata": {},
   "outputs": [],
   "source": [
    "file_path = 'banking_data.csv'\n",
    "banking_data = pd.read_csv(file_path)"
   ]
  },
  {
   "cell_type": "code",
   "execution_count": 7,
   "id": "2c75de2f-9d94-4350-9bb0-d464eb24b657",
   "metadata": {},
   "outputs": [
    {
     "name": "stdout",
     "output_type": "stream",
     "text": [
      "          Date       Account_Type    Branch Transaction_Type  \\\n",
      "15  2023-01-03            Savings  Suburban   Service Charge   \n",
      "8   2023-01-20  Recurring Deposit  Downtown   Service Charge   \n",
      "2   2023-01-10            Current    Uptown     Loan Payment   \n",
      "7   2023-01-09            Current   Central     Loan Payment   \n",
      "17  2023-01-07            Current   Central     Loan Payment   \n",
      "1   2023-01-16            Current    Uptown       Withdrawal   \n",
      "19  2023-01-17            Savings   Central          Deposit   \n",
      "18  2023-01-12  Recurring Deposit  Suburban   Service Charge   \n",
      "16  2023-01-02      Fixed Deposit   Central          Deposit   \n",
      "14  2023-01-01      Fixed Deposit  Downtown       Withdrawal   \n",
      "\n",
      "    Transaction_Amount  Account_Balance  \n",
      "15             3350.32         12836.51  \n",
      "8              3899.98         12646.56  \n",
      "2              3363.85         12428.67  \n",
      "7              2346.72         10708.85  \n",
      "17             4116.52          9785.64  \n",
      "1               641.43          8908.39  \n",
      "19             4516.52          8789.19  \n",
      "18             1339.57          8666.74  \n",
      "16             4421.57          8330.40  \n",
      "14             4136.54          8175.08  \n"
     ]
    }
   ],
   "source": [
    "sorted_data = banking_data.sort_values(by='Account_Balance', ascending=False)\n",
    "print(sorted_data.head(10))"
   ]
  },
  {
   "cell_type": "code",
   "execution_count": 9,
   "id": "9f719b48-2b17-4dc9-a864-284db1afdd36",
   "metadata": {},
   "outputs": [],
   "source": [
    "banking_data['Transaction_Rank'] = banking_data.groupby('Branch')['Transaction_Amount'].rank(ascending=False, method='min')"
   ]
  },
  {
   "cell_type": "code",
   "execution_count": 11,
   "id": "478fe603-5e50-4a29-abc1-229e1cc9ea71",
   "metadata": {},
   "outputs": [
    {
     "name": "stdout",
     "output_type": "stream",
     "text": [
      "   Transaction_Amount    Branch  Transaction_Rank\n",
      "0              985.51   Central               7.0\n",
      "1              641.43    Uptown               4.0\n",
      "2             3363.85    Uptown               1.0\n",
      "3             1914.60    Uptown               2.0\n",
      "4             2788.57  Suburban               3.0\n"
     ]
    }
   ],
   "source": [
    "print(banking_data[['Transaction_Amount', 'Branch', 'Transaction_Rank']].head())"
   ]
  },
  {
   "cell_type": "code",
   "execution_count": null,
   "id": "652c34cb-73b2-43b0-9e35-706d5f053c96",
   "metadata": {},
   "outputs": [],
   "source": []
  }
 ],
 "metadata": {
  "kernelspec": {
   "display_name": "Python [conda env:base] *",
   "language": "python",
   "name": "conda-base-py"
  },
  "language_info": {
   "codemirror_mode": {
    "name": "ipython",
    "version": 3
   },
   "file_extension": ".py",
   "mimetype": "text/x-python",
   "name": "python",
   "nbconvert_exporter": "python",
   "pygments_lexer": "ipython3",
   "version": "3.12.7"
  }
 },
 "nbformat": 4,
 "nbformat_minor": 5
}
