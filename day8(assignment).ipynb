{
 "cells": [
  {
   "cell_type": "code",
   "execution_count": 13,
   "id": "0f090bf0",
   "metadata": {},
   "outputs": [],
   "source": [
    "import pandas as pd\n",
    "\n",
    "# Load the CSV file (use your file path here)\n",
    "df = pd.read_csv('Day_8_sales_data.csv')\n"
   ]
  },
  {
   "cell_type": "code",
   "execution_count": 5,
   "id": "79ad9c34",
   "metadata": {},
   "outputs": [
    {
     "name": "stdout",
     "output_type": "stream",
     "text": [
      "Rows where sales are greater than 1000:\n",
      "          Date     Product Region    Sales  Profit  Quantity  Profit_Per_Unit  \\\n",
      "0   2023-01-02      Tablet   East  1061.81  236.12         7        33.731429   \n",
      "1   2023-01-06      Laptop  North  1926.07  246.34         8        30.792500   \n",
      "2   2023-01-03      Tablet   East  1597.99  253.17         3        84.390000   \n",
      "3   2023-01-20      Tablet  North  1397.99  242.23         1       242.230000   \n",
      "7   2023-01-07  Smartphone   East  1799.26  364.97         4        91.242500   \n",
      "8   2023-01-11  Smartphone   West  1401.67  306.24         2       153.120000   \n",
      "9   2023-01-01      Laptop  North  1562.11  170.72         6        28.453333   \n",
      "11  2023-01-12      Laptop   West  1954.86  262.16         4        65.540000   \n",
      "12  2023-01-09     Monitor  North  1748.66  197.62         6        32.936667   \n",
      "17  2023-01-18     Monitor   West  1287.13  153.86         7        21.980000   \n",
      "18  2023-01-13      Tablet   West  1147.92  271.88         9        30.208889   \n",
      "\n",
      "   High_Sales  \n",
      "0         Yes  \n",
      "1         Yes  \n",
      "2         Yes  \n",
      "3         Yes  \n",
      "7         Yes  \n",
      "8         Yes  \n",
      "9         Yes  \n",
      "11        Yes  \n",
      "12        Yes  \n",
      "17        Yes  \n",
      "18        Yes  \n"
     ]
    }
   ],
   "source": [
    "# Data Filtering\n",
    "# Extract rows where sales are greater than 1000\n",
    "sales_greater_than_1000 = df[df['Sales'] > 1000]\n",
    "print(\"Rows where sales are greater than 1000:\")\n",
    "print(sales_greater_than_1000)\n"
   ]
  },
  {
   "cell_type": "code",
   "execution_count": 6,
   "id": "7bffc22a",
   "metadata": {},
   "outputs": [
    {
     "name": "stdout",
     "output_type": "stream",
     "text": [
      "\n",
      "Sales records for 'East' region:\n",
      "          Date     Product Region    Sales  Profit  Quantity  Profit_Per_Unit  \\\n",
      "0   2023-01-02      Tablet   East  1061.81  236.12         7        33.731429   \n",
      "2   2023-01-03      Tablet   East  1597.99  253.17         3        84.390000   \n",
      "6   2023-01-14    Keyboard   East   587.13   82.16         8        10.270000   \n",
      "7   2023-01-07  Smartphone   East  1799.26  364.97         4        91.242500   \n",
      "14  2023-01-08      Laptop   East   772.74  226.51         2       113.255000   \n",
      "\n",
      "   High_Sales  \n",
      "0         Yes  \n",
      "2         Yes  \n",
      "6          No  \n",
      "7         Yes  \n",
      "14         No  \n"
     ]
    }
   ],
   "source": [
    "# Find all sales records for the 'East' region\n",
    "east_sales = df[df['Region'] == 'East']\n",
    "print(\"\\nSales records for 'East' region:\")\n",
    "print(east_sales)\n"
   ]
  },
  {
   "cell_type": "code",
   "execution_count": 8,
   "id": "9212e825",
   "metadata": {},
   "outputs": [],
   "source": [
    "# Data Processing\n",
    "# Add a new column 'Profit_Per_Unit' calculated as Profit / Quantity\n",
    "df['Profit_Per_Unit'] = df['Profit'] / df['Quantity']"
   ]
  },
  {
   "cell_type": "code",
   "execution_count": 12,
   "id": "17d76943",
   "metadata": {},
   "outputs": [],
   "source": [
    "# Create another column 'High_Sales' where Sales > 1000 is labeled as 'Yes', else 'No'\n",
    "df['High_Sales'] = df['Sales'].apply(lambda x: 'Yes' if x > 1000 else 'No')"
   ]
  },
  {
   "cell_type": "code",
   "execution_count": 10,
   "id": "86e4e607",
   "metadata": {},
   "outputs": [
    {
     "name": "stdout",
     "output_type": "stream",
     "text": [
      "\n",
      "Updated DataFrame with new columns:\n",
      "         Date Product Region    Sales  Profit  Quantity  Profit_Per_Unit  \\\n",
      "0  2023-01-02  Tablet   East  1061.81  236.12         7        33.731429   \n",
      "1  2023-01-06  Laptop  North  1926.07  246.34         8        30.792500   \n",
      "2  2023-01-03  Tablet   East  1597.99  253.17         3        84.390000   \n",
      "3  2023-01-20  Tablet  North  1397.99  242.23         1       242.230000   \n",
      "4  2023-01-04  Laptop   West   734.03  140.36         4        35.090000   \n",
      "\n",
      "  High_Sales  \n",
      "0        Yes  \n",
      "1        Yes  \n",
      "2        Yes  \n",
      "3        Yes  \n",
      "4         No  \n"
     ]
    }
   ],
   "source": [
    "# Display the updated DataFrame\n",
    "print(\"\\nUpdated DataFrame with new columns:\")\n",
    "print(df.head())"
   ]
  }
 ],
 "metadata": {
  "kernelspec": {
   "display_name": "Python [conda env:base] *",
   "language": "python",
   "name": "conda-base-py"
  },
  "language_info": {
   "codemirror_mode": {
    "name": "ipython",
    "version": 3
   },
   "file_extension": ".py",
   "mimetype": "text/x-python",
   "name": "python",
   "nbconvert_exporter": "python",
   "pygments_lexer": "ipython3",
   "version": "3.12.7"
  }
 },
 "nbformat": 4,
 "nbformat_minor": 5
}
