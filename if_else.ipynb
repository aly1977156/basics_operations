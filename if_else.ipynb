{
 "cells": [
  {
   "cell_type": "code",
   "execution_count": 1,
   "id": "14621388-b7e6-47b7-9e5c-0539f6789613",
   "metadata": {},
   "outputs": [
    {
     "name": "stdout",
     "output_type": "stream",
     "text": [
      "odd\n"
     ]
    }
   ],
   "source": [
    "n=5\n",
    "if n%2==0:\n",
    "    print(\"even\")\n",
    "else:\n",
    "    print(\"odd\")\n",
    "\n"
   ]
  },
  {
   "cell_type": "code",
   "execution_count": 2,
   "id": "e4ddf87e-9941-401f-949d-6c5dadb4d82a",
   "metadata": {},
   "outputs": [
    {
     "name": "stdout",
     "output_type": "stream",
     "text": [
      "odd\n"
     ]
    }
   ],
   "source": [
    "print(\"even\") if n%2==0 else print(\"odd\")"
   ]
  },
  {
   "cell_type": "code",
   "execution_count": 6,
   "id": "c819c90c-3ef2-40a5-9b4b-0000af80e704",
   "metadata": {},
   "outputs": [
    {
     "name": "stdout",
     "output_type": "stream",
     "text": [
      "positive\n"
     ]
    }
   ],
   "source": [
    "r=\"positive\" if n>0 else \"negative\"\n",
    "print(r)\n"
   ]
  },
  {
   "cell_type": "code",
   "execution_count": 17,
   "id": "2e059513-7359-4ced-9c21-75ca6418d3ab",
   "metadata": {},
   "outputs": [
    {
     "name": "stdout",
     "output_type": "stream",
     "text": [
      "Adult\n"
     ]
    }
   ],
   "source": [
    "age=20\n",
    "r=\"Adult\" if age>18 else \"Minor\"\n",
    "print(r)"
   ]
  },
  {
   "cell_type": "code",
   "execution_count": 21,
   "id": "9109cae5-b11d-4619-98ea-6d40d3a07641",
   "metadata": {},
   "outputs": [
    {
     "name": "stdout",
     "output_type": "stream",
     "text": [
      "zero\n"
     ]
    }
   ],
   "source": [
    "age=0\n",
    "r=\"positive\" if age>0 else \"negative\" if age <0 else \"zero\"  #nested if else in one-line\n",
    "print(r)"
   ]
  },
  {
   "cell_type": "code",
   "execution_count": 28,
   "id": "c23efe5d-c004-45ec-8d66-923e34c4fd22",
   "metadata": {},
   "outputs": [
    {
     "data": {
      "text/plain": [
       "[4, 8, 10, 12, 14, 18]"
      ]
     },
     "execution_count": 28,
     "metadata": {},
     "output_type": "execute_result"
    }
   ],
   "source": [
    "l=[2,4,5,6,7,9]\n",
    "[(2*x) for x in l]\n"
   ]
  },
  {
   "cell_type": "code",
   "execution_count": 46,
   "id": "4b63daa9-df4a-478d-8889-4f017eb161e9",
   "metadata": {},
   "outputs": [
    {
     "data": {
      "text/plain": [
       "('EVEN:', [2, 4, 6])"
      ]
     },
     "execution_count": 46,
     "metadata": {},
     "output_type": "execute_result"
    }
   ],
   "source": [
    "\"EVEN:\",[x for x in l if x%2==0]"
   ]
  },
  {
   "cell_type": "code",
   "execution_count": 45,
   "id": "0f92d6e1-f122-418c-95c6-25711e0131ec",
   "metadata": {},
   "outputs": [
    {
     "data": {
      "text/plain": [
       "('ODD:', [5, 7, 9])"
      ]
     },
     "execution_count": 45,
     "metadata": {},
     "output_type": "execute_result"
    }
   ],
   "source": [
    "\"ODD:\",[x for x in l if x%2!=0]"
   ]
  },
  {
   "cell_type": "code",
   "execution_count": 74,
   "id": "b08cd261-837d-484f-8a5a-df9b5c7d9959",
   "metadata": {},
   "outputs": [
    {
     "data": {
      "text/plain": [
       "{'ram': [23, 54, 62], 'john': [34, 27, 96]}"
      ]
     },
     "execution_count": 74,
     "metadata": {},
     "output_type": "execute_result"
    }
   ],
   "source": [
    "d1=dict(ram=[23,54,62],john=[34,27,96])\n",
    "d1"
   ]
  },
  {
   "cell_type": "code",
   "execution_count": 75,
   "id": "5c9918e4-9cc7-44a8-8f6c-aea5e07df985",
   "metadata": {},
   "outputs": [
    {
     "data": {
      "text/plain": [
       "{'ram': 46.333333333333336, 'john': 52.333333333333336}"
      ]
     },
     "execution_count": 75,
     "metadata": {},
     "output_type": "execute_result"
    }
   ],
   "source": [
    "{k:sum(v)/len(v) for k,v in d1.items()}"
   ]
  },
  {
   "cell_type": "code",
   "execution_count": 84,
   "id": "06b02c90-fcc3-4d18-a453-1486c292282f",
   "metadata": {},
   "outputs": [
    {
     "data": {
      "text/plain": [
       "4.25"
      ]
     },
     "execution_count": 84,
     "metadata": {},
     "output_type": "execute_result"
    }
   ],
   "source": [
    "def avg(list1):\n",
    "    t=sum(list1)\n",
    "    avg=t/len(list1)\n",
    "    return avg\n",
    "avg([1,5,9,2])\n",
    "\n",
    "\n",
    "\n",
    "\n"
   ]
  },
  {
   "cell_type": "code",
   "execution_count": 87,
   "id": "43622d17-52f3-41d4-804a-86f597c3776f",
   "metadata": {},
   "outputs": [
    {
     "name": "stdout",
     "output_type": "stream",
     "text": [
      "{'a': 2.0, 'b': 5.0, 'c': 8.0}\n"
     ]
    }
   ],
   "source": [
    "d1 = {'a': [1, 2, 3], 'b': [4, 5, 6], 'c': [7, 8, 9]} \n",
    "def compute_average(values):\n",
    "    t=sum(values)\n",
    "    avg=t/len(values) \n",
    "    return avg \n",
    "result = {} \n",
    "for k, v in d1.items(): \n",
    "    avg = compute_average(v) \n",
    "    result[k] = avg \n",
    "print(result)"
   ]
  },
  {
   "cell_type": "markdown",
   "id": "08b9185c-21d4-423d-a370-5a9f18a8f226",
   "metadata": {},
   "source": []
  },
  {
   "cell_type": "code",
   "execution_count": null,
   "id": "d34b8106-f8ca-41a4-af4f-7e47d4c25e3b",
   "metadata": {},
   "outputs": [],
   "source": [
    "def msg(name):\n",
    "    print(\"Good Morning\",name)\n",
    "    return\n",
    "   # return \"Good Moring\"+name\n",
    "name=str(input(\"Enter name:\"))\n",
    "msg(name)\n",
    "\n",
    "\n",
    "\n"
   ]
  },
  {
   "cell_type": "code",
   "execution_count": 6,
   "id": "96db9f5a-dc2d-47fc-a95d-da144130cf17",
   "metadata": {},
   "outputs": [],
   "source": [
    "greet=lambda n: print(f\"Welcome {n}!\")"
   ]
  },
  {
   "cell_type": "code",
   "execution_count": 7,
   "id": "2374d2b6-8334-4a32-854f-1f080720f15c",
   "metadata": {},
   "outputs": [
    {
     "name": "stdout",
     "output_type": "stream",
     "text": [
      "Welcome mee!\n"
     ]
    }
   ],
   "source": [
    "greet(\"mee\")"
   ]
  },
  {
   "cell_type": "code",
   "execution_count": 8,
   "id": "e36c5355-3d06-4bb0-ace0-2cdf7a9fa06e",
   "metadata": {},
   "outputs": [
    {
     "name": "stdout",
     "output_type": "stream",
     "text": [
      "product of 20*30*40 : 24000\n"
     ]
    }
   ],
   "source": [
    "prod=lambda x,y,z: print(f\"product of {x}*{y}*{z} :\",x*y*z)\n",
    "prod(20,30,40)\n"
   ]
  },
  {
   "cell_type": "code",
   "execution_count": 11,
   "id": "934be180-daf3-4499-95ba-8cf10f6889a4",
   "metadata": {},
   "outputs": [
    {
     "name": "stdout",
     "output_type": "stream",
     "text": [
      "Even numbers in [23, 4, 8, 12, 7] are: [4, 8, 12]\n"
     ]
    }
   ],
   "source": [
    "even = lambda n: [x for x in n if x % 2 == 0]\n",
    "numbers = [23, 4, 8, 12, 7]\n",
    "even_numbers = even(numbers)\n",
    "print(f\"Even numbers in {numbers} are: {even_numbers}\")\n"
   ]
  },
  {
   "cell_type": "code",
   "execution_count": null,
   "id": "31c249e9-fab2-4d3e-bc97-8d6591dc62a8",
   "metadata": {},
   "outputs": [],
   "source": []
  }
 ],
 "metadata": {
  "kernelspec": {
   "display_name": "Python 3 (ipykernel)",
   "language": "python",
   "name": "python3"
  },
  "language_info": {
   "codemirror_mode": {
    "name": "ipython",
    "version": 3
   },
   "file_extension": ".py",
   "mimetype": "text/x-python",
   "name": "python",
   "nbconvert_exporter": "python",
   "pygments_lexer": "ipython3",
   "version": "3.12.7"
  }
 },
 "nbformat": 4,
 "nbformat_minor": 5
}
