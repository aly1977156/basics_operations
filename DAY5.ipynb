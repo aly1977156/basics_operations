{
 "cells": [
  {
   "cell_type": "code",
   "execution_count": 2,
   "id": "1c2b0b44-4dd8-4a75-b1c0-87054e2ea709",
   "metadata": {},
   "outputs": [
    {
     "name": "stdout",
     "output_type": "stream",
     "text": [
      "1\n",
      "2\n",
      "3\n",
      "4\n",
      "5\n",
      "6\n",
      "7\n",
      "8\n",
      "9\n",
      "10\n",
      "11\n",
      "12\n",
      "13\n",
      "14\n",
      "15\n",
      "16\n",
      "17\n",
      "18\n",
      "19\n",
      "20\n",
      "Sum of elements upto 20 = 210\n"
     ]
    }
   ],
   "source": [
    "def cal(n):\n",
    "    for x in range(1,n+1):\n",
    "        print(x,end=\"\\n\")\n",
    "    t=[]\n",
    "    i=1\n",
    "    while i<=n:\n",
    "        t.append(i)\n",
    "        i+=1\n",
    "    sum1=sum(t)    \n",
    "    print(f\"Sum of elements upto {n} =\",sum1) \n",
    "\n",
    "cal(20)\n",
    "\n"
   ]
  },
  {
   "cell_type": "code",
   "execution_count": 5,
   "id": "06a5bac1-81c0-4164-a4bf-e5ebabaace93",
   "metadata": {},
   "outputs": [
    {
     "name": "stdout",
     "output_type": "stream",
     "text": [
      "Square of 8 is:  64\n"
     ]
    }
   ],
   "source": [
    "def calculate_square(n):\n",
    "    print(f\"Square of {n} is: \",n**2)\n",
    "n=8\n",
    "#n=int(input(\"Enter a number for squaring: \"))\n",
    "calculate_square(n)"
   ]
  },
  {
   "cell_type": "code",
   "execution_count": null,
   "id": "d25333d5-3ad2-435b-8b7f-6a1111fa8f58",
   "metadata": {},
   "outputs": [],
   "source": []
  }
 ],
 "metadata": {
  "kernelspec": {
   "display_name": "Python 3 (ipykernel)",
   "language": "python",
   "name": "python3"
  },
  "language_info": {
   "codemirror_mode": {
    "name": "ipython",
    "version": 3
   },
   "file_extension": ".py",
   "mimetype": "text/x-python",
   "name": "python",
   "nbconvert_exporter": "python",
   "pygments_lexer": "ipython3",
   "version": "3.12.7"
  }
 },
 "nbformat": 4,
 "nbformat_minor": 5
}
