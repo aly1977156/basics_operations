{
 "cells": [
  {
   "cell_type": "code",
   "execution_count": null,
   "id": "a399093b-5c79-4f63-b98b-a68d8dc0ebc7",
   "metadata": {},
   "outputs": [],
   "source": [
    "a=12\n",
    "b=4.5\n",
    "c=\"me\"\n",
    "d=False\n",
    "ty_a=type(a)\n",
    "ty_b=type(b)\n",
    "ty_c=type(c)\n",
    "ty_d=type(d)\n",
    "print(f\"Type of {a} =\",ty_a)\n",
    "print(f\"Type of {b} =\",ty_b)\n",
    "print(f\"Type of {c} =\",ty_c)\n",
    "print(f\"Type of {d} =\",ty_d)"
   ]
  }
 ],
 "metadata": {
  "kernelspec": {
   "display_name": "Python 3 (ipykernel)",
   "language": "python",
   "name": "python3"
  },
  "language_info": {
   "codemirror_mode": {
    "name": "ipython",
    "version": 3
   },
   "file_extension": ".py",
   "mimetype": "text/x-python",
   "name": "python",
   "nbconvert_exporter": "python",
   "pygments_lexer": "ipython3",
   "version": "3.12.7"
  }
 },
 "nbformat": 4,
 "nbformat_minor": 5
}
