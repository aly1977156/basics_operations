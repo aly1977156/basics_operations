{
 "cells": [
  {
   "cell_type": "code",
   "execution_count": 2,
   "id": "7fb21632-3bb2-4f22-9b78-cc75fa738dbf",
   "metadata": {},
   "outputs": [
    {
     "name": "stdout",
     "output_type": "stream",
     "text": [
      "[[1, 2], [3, 4], [6, 7]]\n"
     ]
    }
   ],
   "source": [
    "n=[[1,2],[3,4],[6,7]]\n",
    "print(n)\n"
   ]
  },
  {
   "cell_type": "code",
   "execution_count": 20,
   "id": "641782ce-4ab3-45f2-b8b0-d53bfe6f639b",
   "metadata": {},
   "outputs": [
    {
     "data": {
      "text/plain": [
       "['__add__',\n",
       " '__class__',\n",
       " '__class_getitem__',\n",
       " '__contains__',\n",
       " '__delattr__',\n",
       " '__delitem__',\n",
       " '__dir__',\n",
       " '__doc__',\n",
       " '__eq__',\n",
       " '__format__',\n",
       " '__ge__',\n",
       " '__getattribute__',\n",
       " '__getitem__',\n",
       " '__getstate__',\n",
       " '__gt__',\n",
       " '__hash__',\n",
       " '__iadd__',\n",
       " '__imul__',\n",
       " '__init__',\n",
       " '__init_subclass__',\n",
       " '__iter__',\n",
       " '__le__',\n",
       " '__len__',\n",
       " '__lt__',\n",
       " '__mul__',\n",
       " '__ne__',\n",
       " '__new__',\n",
       " '__reduce__',\n",
       " '__reduce_ex__',\n",
       " '__repr__',\n",
       " '__reversed__',\n",
       " '__rmul__',\n",
       " '__setattr__',\n",
       " '__setitem__',\n",
       " '__sizeof__',\n",
       " '__str__',\n",
       " '__subclasshook__',\n",
       " 'append',\n",
       " 'clear',\n",
       " 'copy',\n",
       " 'count',\n",
       " 'extend',\n",
       " 'index',\n",
       " 'insert',\n",
       " 'pop',\n",
       " 'remove',\n",
       " 'reverse',\n",
       " 'sort']"
      ]
     },
     "execution_count": 20,
     "metadata": {},
     "output_type": "execute_result"
    }
   ],
   "source": [
    "dir(list)"
   ]
  },
  {
   "cell_type": "code",
   "execution_count": 32,
   "id": "6abb968c-3a54-4855-a8ea-9c9d4fda6882",
   "metadata": {},
   "outputs": [
    {
     "data": {
      "text/plain": [
       "[['apple', 5], [['added', 0]], ['mango', 4], ['pineapple', 8]]"
      ]
     },
     "execution_count": 32,
     "metadata": {},
     "output_type": "execute_result"
    }
   ],
   "source": [
    "orders=[[\"apple\",5],[\"mango\",4],[\"pineapple\",8]]\n",
    "l=[[\"added\",0]]\n",
    "orders.insert(1,l)\n",
    "'''orders.append(l)\n",
    "orders.extend(l)'''\n",
    "orders\n",
    "orders.count(l)\n",
    "orders\n"
   ]
  },
  {
   "cell_type": "code",
   "execution_count": 1,
   "id": "1cb473aa-4c9c-44ae-849d-76ad669e108d",
   "metadata": {},
   "outputs": [
    {
     "name": "stdout",
     "output_type": "stream",
     "text": [
      "[['apple', 20], ['banana', 42], ['mango', 10], ['apple', 90]]\n",
      "110\n"
     ]
    }
   ],
   "source": [
    "l=[['apple',20],['banana',42],['mango',10],['apple',90]]\n",
    "t=[]\n",
    "for x in l:\n",
    "  if x[0]=='apple':\n",
    "    t.append(x[1])\n",
    "\n",
    "\n",
    "\n",
    "print(l)\n",
    "sum=0\n",
    "for x in range(len(t)):\n",
    "  sum+=t[x]\n",
    "print(sum)\n"
   ]
  },
  {
   "cell_type": "code",
   "execution_count": 37,
   "id": "80db6794-9cf6-4278-a3ce-fe9173967f05",
   "metadata": {},
   "outputs": [
    {
     "name": "stdout",
     "output_type": "stream",
     "text": [
      "('aly', 4, 7.8)\n",
      "('aly', 8.9)\n",
      "('aly', 8.9, (6+7j))\n"
     ]
    }
   ],
   "source": [
    "t=\"aly\",4,7.8\n",
    "\n",
    "t2=(\"aly\",8.9)\n",
    "\n",
    "t3=tuple([\"aly\",8.9,6+7j])\n",
    "\n",
    "type(t3)\n",
    "type(t)\n",
    "type(t2)\n",
    "\n",
    "print(t)\n",
    "print(t2)\n",
    "print(t3)"
   ]
  },
  {
   "cell_type": "code",
   "execution_count": 40,
   "id": "1dfb4b8d-2891-4672-957f-f6ffbdeb15c9",
   "metadata": {},
   "outputs": [
    {
     "data": {
      "text/plain": [
       "(7.8, 4, 'aly')"
      ]
     },
     "execution_count": 40,
     "metadata": {},
     "output_type": "execute_result"
    }
   ],
   "source": [
    "t[::-1]"
   ]
  },
  {
   "cell_type": "code",
   "execution_count": 39,
   "id": "96a20735-5a79-4b19-814a-092d37f56985",
   "metadata": {},
   "outputs": [
    {
     "data": {
      "text/plain": [
       "('aly', 8.9)"
      ]
     },
     "execution_count": 39,
     "metadata": {},
     "output_type": "execute_result"
    }
   ],
   "source": [
    "t2[0:3]"
   ]
  },
  {
   "cell_type": "code",
   "execution_count": 41,
   "id": "18f9b82d-5e8e-45ad-9408-6f86fb6f144b",
   "metadata": {},
   "outputs": [
    {
     "data": {
      "text/plain": [
       "1"
      ]
     },
     "execution_count": 41,
     "metadata": {},
     "output_type": "execute_result"
    }
   ],
   "source": [
    "t2.index(8.9)"
   ]
  },
  {
   "cell_type": "code",
   "execution_count": 43,
   "id": "13c5fb08-1a49-4deb-9b7b-e779fcd70d14",
   "metadata": {},
   "outputs": [
    {
     "data": {
      "text/plain": [
       "1"
      ]
     },
     "execution_count": 43,
     "metadata": {},
     "output_type": "execute_result"
    }
   ],
   "source": [
    "t3.count(8.9)"
   ]
  },
  {
   "cell_type": "code",
   "execution_count": 2,
   "id": "0323f408-9fb7-4c4a-b238-550a3dcf1896",
   "metadata": {},
   "outputs": [
    {
     "name": "stdout",
     "output_type": "stream",
     "text": [
      "{'a': 1, 'b': 2}\n"
     ]
    },
    {
     "data": {
      "text/plain": [
       "dict"
      ]
     },
     "execution_count": 2,
     "metadata": {},
     "output_type": "execute_result"
    }
   ],
   "source": [
    "#operations on dictionary\n",
    "d1={\"a\":1,\"b\":2}\n",
    "print(d1)\n",
    "type(d1)\n",
    "\n",
    "\n"
   ]
  },
  {
   "cell_type": "code",
   "execution_count": 16,
   "id": "7b333e03-1093-4705-8bae-3031e0dc60e0",
   "metadata": {},
   "outputs": [
    {
     "name": "stdout",
     "output_type": "stream",
     "text": [
      "{'a': 1, 'b': 2} \n",
      "\n",
      "{'a': 1, 'b': 2}\n"
     ]
    }
   ],
   "source": [
    "d=dict(a=1,b=2)\n",
    "print(d,\"\\n\")\n",
    "d1=dict([(\"a\",1),(\"b\",2)])\n",
    "print(d1)\n"
   ]
  },
  {
   "cell_type": "code",
   "execution_count": 20,
   "id": "6ac06896-561e-4611-875a-fa635b8b642e",
   "metadata": {},
   "outputs": [
    {
     "name": "stdout",
     "output_type": "stream",
     "text": [
      " dict_keys(['a', 'b']) \n",
      " dict_values([1, 2]) \n",
      " dict_items([('a', 1), ('b', 2)])\n"
     ]
    }
   ],
   "source": [
    "print(\"\",d1.keys(),\"\\n\",d1.values(),\"\\n\",d1.items())"
   ]
  },
  {
   "cell_type": "code",
   "execution_count": 21,
   "id": "e1dd02f7-ab67-44d2-bdb2-2b04678f6451",
   "metadata": {},
   "outputs": [
    {
     "data": {
      "text/plain": [
       "['__class__',\n",
       " '__class_getitem__',\n",
       " '__contains__',\n",
       " '__delattr__',\n",
       " '__delitem__',\n",
       " '__dir__',\n",
       " '__doc__',\n",
       " '__eq__',\n",
       " '__format__',\n",
       " '__ge__',\n",
       " '__getattribute__',\n",
       " '__getitem__',\n",
       " '__getstate__',\n",
       " '__gt__',\n",
       " '__hash__',\n",
       " '__init__',\n",
       " '__init_subclass__',\n",
       " '__ior__',\n",
       " '__iter__',\n",
       " '__le__',\n",
       " '__len__',\n",
       " '__lt__',\n",
       " '__ne__',\n",
       " '__new__',\n",
       " '__or__',\n",
       " '__reduce__',\n",
       " '__reduce_ex__',\n",
       " '__repr__',\n",
       " '__reversed__',\n",
       " '__ror__',\n",
       " '__setattr__',\n",
       " '__setitem__',\n",
       " '__sizeof__',\n",
       " '__str__',\n",
       " '__subclasshook__',\n",
       " 'clear',\n",
       " 'copy',\n",
       " 'fromkeys',\n",
       " 'get',\n",
       " 'items',\n",
       " 'keys',\n",
       " 'pop',\n",
       " 'popitem',\n",
       " 'setdefault',\n",
       " 'update',\n",
       " 'values']"
      ]
     },
     "execution_count": 21,
     "metadata": {},
     "output_type": "execute_result"
    }
   ],
   "source": [
    "dir(dict)"
   ]
  },
  {
   "cell_type": "code",
   "execution_count": 22,
   "id": "229a61ce-a7b3-4877-b90a-36d8a12a5727",
   "metadata": {},
   "outputs": [
    {
     "data": {
      "text/plain": [
       "{'virat': 90,\n",
       " 'rohit': 100,\n",
       " 'rahul': 70,\n",
       " 'hardik': 9,\n",
       " 'gill': 20,\n",
       " 'jadeja': 30,\n",
       " 'siraz': 15}"
      ]
     },
     "execution_count": 22,
     "metadata": {},
     "output_type": "execute_result"
    }
   ],
   "source": [
    "s=dict(virat=90,rohit=100,rahul=70,hardik=9,gill=20,jadeja=30,siraz=15)\n",
    "s\n"
   ]
  },
  {
   "cell_type": "code",
   "execution_count": 37,
   "id": "45693577-e68c-4d29-a8df-75205730bcc3",
   "metadata": {},
   "outputs": [
    {
     "name": "stdout",
     "output_type": "stream",
     "text": [
      "{'virat': 90, 'rohit': 100, 'rahul': 70, 'hardik': 9, 'gill': 20, 'jadeja': 70, 'siraz': 15, 'aswin': 14, 'testting': 69}\n"
     ]
    },
    {
     "data": {
      "text/plain": [
       "{'virat': 90,\n",
       " 'rohit': 100,\n",
       " 'rahul': 70,\n",
       " 'hardik': 9,\n",
       " 'gill': 20,\n",
       " 'jadeja': 70,\n",
       " 'siraz': 15,\n",
       " 'aswin': 14,\n",
       " 'testting': 69,\n",
       " 'testing': 69}"
      ]
     },
     "execution_count": 37,
     "metadata": {},
     "output_type": "execute_result"
    }
   ],
   "source": [
    "s[\"aswin\"]=14 #adding\n",
    "print(s)\n",
    "s.update({\"jadeja\":70,\"testing\":69})#upading more than one and adds new value\n",
    "s\n"
   ]
  },
  {
   "cell_type": "code",
   "execution_count": 55,
   "id": "6185ddef-c718-4f8d-aaf9-c3a89fbfbc57",
   "metadata": {},
   "outputs": [
    {
     "name": "stdout",
     "output_type": "stream",
     "text": [
      "{'virat': 90, 'rohit': 100, 'rahul': 70, 'hardik': 9, 'gill': 20, 'jadeja': 70, 'siraz': 15, 'aswin': 14, 'testting': 69, 'testing': 69, 'test': 0}\n"
     ]
    }
   ],
   "source": [
    "s.setdefault(\"test\",0)\n",
    "print(s)\n"
   ]
  },
  {
   "cell_type": "code",
   "execution_count": 65,
   "id": "4efaaac4-3311-43d7-ab2b-97f4a3451fc3",
   "metadata": {},
   "outputs": [
    {
     "data": {
      "text/plain": [
       "('removetest', 50)"
      ]
     },
     "execution_count": 65,
     "metadata": {},
     "output_type": "execute_result"
    }
   ],
   "source": [
    "s.popitem()\n"
   ]
  },
  {
   "cell_type": "code",
   "execution_count": 66,
   "id": "2abb2b3f-3032-44ca-9bab-985fbaa55484",
   "metadata": {},
   "outputs": [
    {
     "data": {
      "text/plain": [
       "{'virat': 90,\n",
       " 'rohit': 100,\n",
       " 'rahul': 70,\n",
       " 'hardik': 9,\n",
       " 'gill': 20,\n",
       " 'jadeja': 70,\n",
       " 'siraz': 15,\n",
       " 'aswin': 14,\n",
       " 'test': 50}"
      ]
     },
     "execution_count": 66,
     "metadata": {},
     "output_type": "execute_result"
    }
   ],
   "source": [
    "s"
   ]
  },
  {
   "cell_type": "code",
   "execution_count": 70,
   "id": "85fc91a3-54b5-4af5-92d5-8bfd0bbb7a34",
   "metadata": {},
   "outputs": [
    {
     "data": {
      "text/plain": [
       "{'virat': 90,\n",
       " 'rohit': 100,\n",
       " 'rahul': 70,\n",
       " 'hardik': 9,\n",
       " 'gill': 20,\n",
       " 'jadeja': 70,\n",
       " 'siraz': 15,\n",
       " 'aswin': 14,\n",
       " 'test': 50,\n",
       " 'add': 90}"
      ]
     },
     "execution_count": 70,
     "metadata": {},
     "output_type": "execute_result"
    }
   ],
   "source": [
    "s[\"add\"]=90\n",
    "s\n"
   ]
  },
  {
   "cell_type": "code",
   "execution_count": 74,
   "id": "c2973949-fefd-4531-8bc4-83a71aafbe3d",
   "metadata": {},
   "outputs": [
    {
     "data": {
      "text/plain": [
       "90"
      ]
     },
     "execution_count": 74,
     "metadata": {},
     "output_type": "execute_result"
    }
   ],
   "source": [
    "s.pop(\"add\",90)"
   ]
  },
  {
   "cell_type": "code",
   "execution_count": 75,
   "id": "9feb5203-1842-4704-adc4-c41611061285",
   "metadata": {},
   "outputs": [
    {
     "data": {
      "text/plain": [
       "{'virat': 90,\n",
       " 'rohit': 100,\n",
       " 'rahul': 70,\n",
       " 'hardik': 9,\n",
       " 'gill': 20,\n",
       " 'jadeja': 70,\n",
       " 'siraz': 15,\n",
       " 'aswin': 14,\n",
       " 'test': 50}"
      ]
     },
     "execution_count": 75,
     "metadata": {},
     "output_type": "execute_result"
    }
   ],
   "source": [
    "s"
   ]
  },
  {
   "cell_type": "code",
   "execution_count": 80,
   "id": "2741f190-f8a5-420c-95be-27a78fa1e1d2",
   "metadata": {},
   "outputs": [
    {
     "name": "stdout",
     "output_type": "stream",
     "text": [
      "{'a': 20, 'b': 45} \n",
      " {'a': None, 'b': None}\n"
     ]
    }
   ],
   "source": [
    "a={\"a\":20,\"b\":45}\n",
    "l1=dict.fromkeys(a)#.fromekeys(a,0) assigns default value 0 to all keys\n",
    "print(a,\"\\n\",l1)\n",
    "\n"
   ]
  },
  {
   "cell_type": "code",
   "execution_count": 84,
   "id": "11ae3282-0d01-414b-8b66-4bfcf8929afc",
   "metadata": {},
   "outputs": [
    {
     "data": {
      "text/plain": [
       "{'a': 0, 'b': None}"
      ]
     },
     "execution_count": 84,
     "metadata": {},
     "output_type": "execute_result"
    }
   ],
   "source": [
    "l1.update({\"a\":0})\n",
    "l1\n"
   ]
  },
  {
   "cell_type": "code",
   "execution_count": null,
   "id": "37091ede-1313-42ca-983e-549cd32806ac",
   "metadata": {},
   "outputs": [],
   "source": []
  }
 ],
 "metadata": {
  "kernelspec": {
   "display_name": "Python 3 (ipykernel)",
   "language": "python",
   "name": "python3"
  },
  "language_info": {
   "codemirror_mode": {
    "name": "ipython",
    "version": 3
   },
   "file_extension": ".py",
   "mimetype": "text/x-python",
   "name": "python",
   "nbconvert_exporter": "python",
   "pygments_lexer": "ipython3",
   "version": "3.12.7"
  }
 },
 "nbformat": 4,
 "nbformat_minor": 5
}
