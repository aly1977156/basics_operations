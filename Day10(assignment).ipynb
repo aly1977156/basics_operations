{
 "cells": [
  {
   "cell_type": "code",
   "execution_count": 2,
   "id": "553cd969-a985-4665-b56f-5d17bad8594d",
   "metadata": {},
   "outputs": [
    {
     "name": "stdout",
     "output_type": "stream",
     "text": [
      "Rows where Transaction_Amount <= 2000:\n",
      "         Date       Account_Type    Branch Transaction_Type  \\\n",
      "0  2023-01-19      Fixed Deposit   Central     Loan Payment   \n",
      "1  2023-01-16            Current    Uptown       Withdrawal   \n",
      "3  2023-01-18            Savings    Uptown     Loan Payment   \n",
      "6  2023-01-04  Recurring Deposit   Central   Service Charge   \n",
      "9  2023-01-11      Fixed Deposit  Downtown          Deposit   \n",
      "\n",
      "   Transaction_Amount  Account_Balance  \n",
      "0              985.51          6839.59  \n",
      "1              641.43          8908.39  \n",
      "3             1914.60          5776.63  \n",
      "6             1621.82          6465.79  \n",
      "9             1529.59          2592.16  \n",
      "\n",
      "Rows with Loan Payment and Account_Balance > 5000:\n",
      "          Date       Account_Type   Branch Transaction_Type  \\\n",
      "0   2023-01-19      Fixed Deposit  Central     Loan Payment   \n",
      "2   2023-01-10            Current   Uptown     Loan Payment   \n",
      "3   2023-01-18            Savings   Uptown     Loan Payment   \n",
      "7   2023-01-09            Current  Central     Loan Payment   \n",
      "13  2023-01-05  Recurring Deposit  Central     Loan Payment   \n",
      "\n",
      "    Transaction_Amount  Account_Balance  \n",
      "0               985.51          6839.59  \n",
      "2              3363.85         12428.67  \n",
      "3              1914.60          5776.63  \n",
      "7              2346.72         10708.85  \n",
      "13             4683.64          6762.43  \n",
      "\n",
      "Transactions made in the Uptown branch:\n",
      "          Date   Account_Type  Branch Transaction_Type  Transaction_Amount  \\\n",
      "1   2023-01-16        Current  Uptown       Withdrawal              641.43   \n",
      "2   2023-01-10        Current  Uptown     Loan Payment             3363.85   \n",
      "3   2023-01-18        Savings  Uptown     Loan Payment             1914.60   \n",
      "12  2023-01-15  Fixed Deposit  Uptown   Service Charge             1225.50   \n",
      "\n",
      "    Account_Balance  \n",
      "1           8908.39  \n",
      "2          12428.67  \n",
      "3           5776.63  \n",
      "12          4224.47  \n"
     ]
    }
   ],
   "source": [
    "import pandas as pd\n",
    "df = pd.read_csv('banking_data.csv')\n",
    "\n",
    "file_path = 'banking_data.csv'  \n",
    "banking_data = pd.read_csv(file_path)\n",
    "\n",
    "filtered_data_1 = banking_data[banking_data['Transaction_Amount'] <= 2000]\n",
    "\n",
    "filtered_data_2 = banking_data[(banking_data['Transaction_Type'] == 'Loan Payment') & \n",
    "                               (banking_data['Account_Balance'] > 5000)]\n",
    "\n",
    "filtered_data_3 = banking_data[banking_data['Branch'] == 'Uptown']\n",
    "\n",
    "print(\"Rows where Transaction_Amount <= 2000:\")\n",
    "print(filtered_data_1.head())\n",
    "\n",
    "print(\"\\nRows with Loan Payment and Account_Balance > 5000:\")\n",
    "print(filtered_data_2.head())\n",
    "\n",
    "print(\"\\nTransactions made in the Uptown branch:\")\n",
    "print(filtered_data_3.head())"
   ]
  },
  {
   "cell_type": "code",
   "execution_count": 4,
   "id": "4961c224-80b3-4db9-85cc-778224339097",
   "metadata": {},
   "outputs": [
    {
     "name": "stdout",
     "output_type": "stream",
     "text": [
      "\n",
      "Data with new columns 'Transaction_Fee' and 'Balance_Status':\n",
      "   Transaction_Amount  Transaction_Fee  Account_Balance Balance_Status\n",
      "0              985.51          19.7102          6839.59   High Balance\n",
      "1              641.43          12.8286          8908.39   High Balance\n",
      "2             3363.85          67.2770         12428.67   High Balance\n",
      "3             1914.60          38.2920          5776.63   High Balance\n",
      "4             2788.57          55.7714          4779.04    Low Balance\n"
     ]
    }
   ],
   "source": [
    "import pandas as pd\n",
    "\n",
    "file_path = 'banking_data.csv'  \n",
    "banking_data = pd.read_csv(file_path)\n",
    "\n",
    "banking_data['Transaction_Fee'] = banking_data['Transaction_Amount'] * 0.02\n",
    "banking_data['Balance_Status'] = banking_data['Account_Balance'].apply(lambda x: 'High Balance' if x > 5000 else 'Low Balance')\n",
    "\n",
    "# Display the transformed data with new columns\n",
    "print(\"\\nData with new columns 'Transaction_Fee' and 'Balance_Status':\")\n",
    "print(banking_data[['Transaction_Amount', 'Transaction_Fee', 'Account_Balance', 'Balance_Status']].head())"
   ]
  },
  {
   "cell_type": "code",
   "execution_count": null,
   "id": "85894748-5260-4150-a985-70f57aae406e",
   "metadata": {},
   "outputs": [],
   "source": []
  }
 ],
 "metadata": {
  "kernelspec": {
   "display_name": "Python [conda env:base] *",
   "language": "python",
   "name": "conda-base-py"
  },
  "language_info": {
   "codemirror_mode": {
    "name": "ipython",
    "version": 3
   },
   "file_extension": ".py",
   "mimetype": "text/x-python",
   "name": "python",
   "nbconvert_exporter": "python",
   "pygments_lexer": "ipython3",
   "version": "3.12.7"
  }
 },
 "nbformat": 4,
 "nbformat_minor": 5
}
