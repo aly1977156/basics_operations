{
 "cells": [
  {
   "cell_type": "code",
   "execution_count": 2,
   "id": "63af5e0b-d119-4192-a859-9af12fd3666a",
   "metadata": {},
   "outputs": [
    {
     "name": "stdout",
     "output_type": "stream",
     "text": [
      "8\n",
      "[4, 8, 65]\n",
      "[1, 6, 4, 8, 65]\n",
      "[65, 8, 4, 6, 1]\n",
      "2\n",
      "dict_items([('1', 4), ('2', 7), ('3', 2), ('4', 6), ('5', 43)])\n",
      "23\n",
      "88\n"
     ]
    },
    {
     "data": {
      "text/plain": [
       "{'1': 67, '2': 44, '3': 56}"
      ]
     },
     "execution_count": 2,
     "metadata": {},
     "output_type": "execute_result"
    }
   ],
   "source": [
    "list1 = [1, 6, 4, 8, 65]\n",
    "dict1 = {\"1\": 4, \"2\": 7, \"3\": 2, \"4\": 6, \"5\": 43}\n",
    "tup1 = (23, 65, 45, 76, 88)\n",
    "ex=dict([(\"1\",67),(\"2\",44),(\"3\",56)])\n",
    "print(list1[3])          \n",
    "print(list1[2::])        \n",
    "print(list1[::])         \n",
    "print(list1[::-1])       \n",
    "print(dict1.get(\"3\"))    \n",
    "print(dict1.items())     \n",
    "print(tup1[0])\n",
    "print(tup1[4])\n",
    "ex"
   ]
  },
  {
   "cell_type": "code",
   "execution_count": null,
   "id": "fd18e8e2-e37a-425f-8714-24fdac04ab14",
   "metadata": {},
   "outputs": [],
   "source": []
  }
 ],
 "metadata": {
  "kernelspec": {
   "display_name": "Python 3 (ipykernel)",
   "language": "python",
   "name": "python3"
  },
  "language_info": {
   "codemirror_mode": {
    "name": "ipython",
    "version": 3
   },
   "file_extension": ".py",
   "mimetype": "text/x-python",
   "name": "python",
   "nbconvert_exporter": "python",
   "pygments_lexer": "ipython3",
   "version": "3.12.7"
  }
 },
 "nbformat": 4,
 "nbformat_minor": 5
}
