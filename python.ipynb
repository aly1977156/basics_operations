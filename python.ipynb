{
 "cells": [
  {
   "cell_type": "code",
   "execution_count": 2,
   "id": "7fb21632-3bb2-4f22-9b78-cc75fa738dbf",
   "metadata": {},
   "outputs": [
    {
     "name": "stdout",
     "output_type": "stream",
     "text": [
      "[[1, 2], [3, 4], [6, 7]]\n"
     ]
    }
   ],
   "source": [
    "n=[[1,2],[3,4],[6,7]]\n",
    "print(n)\n"
   ]
  },
  {
   "cell_type": "code",
   "execution_count": 20,
   "id": "641782ce-4ab3-45f2-b8b0-d53bfe6f639b",
   "metadata": {},
   "outputs": [
    {
     "data": {
      "text/plain": [
       "['__add__',\n",
       " '__class__',\n",
       " '__class_getitem__',\n",
       " '__contains__',\n",
       " '__delattr__',\n",
       " '__delitem__',\n",
       " '__dir__',\n",
       " '__doc__',\n",
       " '__eq__',\n",
       " '__format__',\n",
       " '__ge__',\n",
       " '__getattribute__',\n",
       " '__getitem__',\n",
       " '__getstate__',\n",
       " '__gt__',\n",
       " '__hash__',\n",
       " '__iadd__',\n",
       " '__imul__',\n",
       " '__init__',\n",
       " '__init_subclass__',\n",
       " '__iter__',\n",
       " '__le__',\n",
       " '__len__',\n",
       " '__lt__',\n",
       " '__mul__',\n",
       " '__ne__',\n",
       " '__new__',\n",
       " '__reduce__',\n",
       " '__reduce_ex__',\n",
       " '__repr__',\n",
       " '__reversed__',\n",
       " '__rmul__',\n",
       " '__setattr__',\n",
       " '__setitem__',\n",
       " '__sizeof__',\n",
       " '__str__',\n",
       " '__subclasshook__',\n",
       " 'append',\n",
       " 'clear',\n",
       " 'copy',\n",
       " 'count',\n",
       " 'extend',\n",
       " 'index',\n",
       " 'insert',\n",
       " 'pop',\n",
       " 'remove',\n",
       " 'reverse',\n",
       " 'sort']"
      ]
     },
     "execution_count": 20,
     "metadata": {},
     "output_type": "execute_result"
    }
   ],
   "source": [
    "dir(list)"
   ]
  },
  {
   "cell_type": "code",
   "execution_count": 32,
   "id": "6abb968c-3a54-4855-a8ea-9c9d4fda6882",
   "metadata": {},
   "outputs": [
    {
     "data": {
      "text/plain": [
       "[['apple', 5], [['added', 0]], ['mango', 4], ['pineapple', 8]]"
      ]
     },
     "execution_count": 32,
     "metadata": {},
     "output_type": "execute_result"
    }
   ],
   "source": [
    "orders=[[\"apple\",5],[\"mango\",4],[\"pineapple\",8]]\n",
    "l=[[\"added\",0]]\n",
    "orders.insert(1,l)\n",
    "'''orders.append(l)\n",
    "orders.extend(l)'''\n",
    "orders\n",
    "orders.count(l)\n",
    "orders\n"
   ]
  },
  {
   "cell_type": "code",
   "execution_count": 1,
   "id": "1cb473aa-4c9c-44ae-849d-76ad669e108d",
   "metadata": {},
   "outputs": [
    {
     "name": "stdout",
     "output_type": "stream",
     "text": [
      "[['apple', 20], ['banana', 42], ['mango', 10], ['apple', 90]]\n",
      "110\n"
     ]
    }
   ],
   "source": [
    "l=[['apple',20],['banana',42],['mango',10],['apple',90]]\n",
    "t=[]\n",
    "for x in l:\n",
    "  if x[0]=='apple':\n",
    "    t.append(x[1])\n",
    "\n",
    "\n",
    "\n",
    "print(l)\n",
    "sum=0\n",
    "for x in range(len(t)):\n",
    "  sum+=t[x]\n",
    "print(sum)\n"
   ]
  },
  {
   "cell_type": "code",
   "execution_count": 37,
   "id": "80db6794-9cf6-4278-a3ce-fe9173967f05",
   "metadata": {},
   "outputs": [
    {
     "name": "stdout",
     "output_type": "stream",
     "text": [
      "('aly', 4, 7.8)\n",
      "('aly', 8.9)\n",
      "('aly', 8.9, (6+7j))\n"
     ]
    }
   ],
   "source": [
    "t=\"aly\",4,7.8\n",
    "\n",
    "t2=(\"aly\",8.9)\n",
    "\n",
    "t3=tuple([\"aly\",8.9,6+7j])\n",
    "\n",
    "type(t3)\n",
    "type(t)\n",
    "type(t2)\n",
    "\n",
    "print(t)\n",
    "print(t2)\n",
    "print(t3)"
   ]
  },
  {
   "cell_type": "code",
   "execution_count": 40,
   "id": "1dfb4b8d-2891-4672-957f-f6ffbdeb15c9",
   "metadata": {},
   "outputs": [
    {
     "data": {
      "text/plain": [
       "(7.8, 4, 'aly')"
      ]
     },
     "execution_count": 40,
     "metadata": {},
     "output_type": "execute_result"
    }
   ],
   "source": [
    "t[::-1]"
   ]
  },
  {
   "cell_type": "code",
   "execution_count": 39,
   "id": "96a20735-5a79-4b19-814a-092d37f56985",
   "metadata": {},
   "outputs": [
    {
     "data": {
      "text/plain": [
       "('aly', 8.9)"
      ]
     },
     "execution_count": 39,
     "metadata": {},
     "output_type": "execute_result"
    }
   ],
   "source": [
    "t2[0:3]"
   ]
  },
  {
   "cell_type": "code",
   "execution_count": 41,
   "id": "18f9b82d-5e8e-45ad-9408-6f86fb6f144b",
   "metadata": {},
   "outputs": [
    {
     "data": {
      "text/plain": [
       "1"
      ]
     },
     "execution_count": 41,
     "metadata": {},
     "output_type": "execute_result"
    }
   ],
   "source": [
    "t2.index(8.9)"
   ]
  },
  {
   "cell_type": "code",
   "execution_count": 43,
   "id": "13c5fb08-1a49-4deb-9b7b-e779fcd70d14",
   "metadata": {},
   "outputs": [
    {
     "data": {
      "text/plain": [
       "1"
      ]
     },
     "execution_count": 43,
     "metadata": {},
     "output_type": "execute_result"
    }
   ],
   "source": [
    "t3.count(8.9)"
   ]
  },
  {
   "cell_type": "code",
   "execution_count": null,
   "id": "0323f408-9fb7-4c4a-b238-550a3dcf1896",
   "metadata": {},
   "outputs": [],
   "source": []
  }
 ],
 "metadata": {
  "kernelspec": {
   "display_name": "Python 3 (ipykernel)",
   "language": "python",
   "name": "python3"
  },
  "language_info": {
   "codemirror_mode": {
    "name": "ipython",
    "version": 3
   },
   "file_extension": ".py",
   "mimetype": "text/x-python",
   "name": "python",
   "nbconvert_exporter": "python",
   "pygments_lexer": "ipython3",
   "version": "3.12.7"
  }
 },
 "nbformat": 4,
 "nbformat_minor": 5
}
