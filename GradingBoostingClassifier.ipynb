{
 "cells": [
  {
   "cell_type": "code",
   "execution_count": null,
   "id": "f0a59b3d-d678-419c-9c9d-79cdf235eaf2",
   "metadata": {},
   "outputs": [],
   "source": [
    "import pandas as pd\n",
    "from sklearn.model_selection import train_test_split, GridSearchCV, KFold, StratifiedKFold\n",
    "from sklearn. ensemble import GradientBoostingClassifier\n",
    "from sklearn.metrics import accuracy_score, classification_report, confusion_matrix\n",
    "from sklearn.preprocessing import StandardScaler"
   ]
  },
  {
   "cell_type": "code",
   "execution_count": null,
   "id": "bb09adc3-65a5-4774-9e6c-ee127e3929cc",
   "metadata": {},
   "outputs": [],
   "source": [
    "df=pd.read_csv(\"diabetes.csv\")\n",
    "df"
   ]
  },
  {
   "cell_type": "code",
   "execution_count": null,
   "id": "83a6c501-1929-4dfe-a0bf-f68491493f0c",
   "metadata": {},
   "outputs": [],
   "source": [
    "# Features and target\n",
    "X=df.drop(columns=['class'])\n",
    "Y=df['class']\n",
    "\n",
    "# Standardize features\n",
    "scaler=StandardScaler()\n",
    "X_scaled=scaler.fit_transform(X)\n",
    "X_scaled"
   ]
  },
  {
   "cell_type": "code",
   "execution_count": null,
   "id": "ee3b6cd7-41bb-4220-a222-15f0be051bdf",
   "metadata": {},
   "outputs": [],
   "source": [
    "# Perform train, test split on the dataset\n",
    "X_train, X_test, y_train, y_test = train_test_split(X,Y, test_size = 0.8, random_state = 42)"
   ]
  },
  {
   "cell_type": "code",
   "execution_count": null,
   "id": "03ff2a4b-8bb0-4c68-9b6a-89ece57eefac",
   "metadata": {},
   "outputs": [],
   "source": [
    "# Instantiate the model and define the parameters\n",
    "gbc = GradientBoostingClassifier (random_state=42)\n",
    "# Set up KFold cross-validation\n",
    "kfold = StratifiedKFold(n_splits=5, shuffle=True, random_state=42)\n",
    "# Hyperparameter grid\n",
    "param_grid = {\n",
    "    \"n_estimators\": [50, 100, 150],\n",
    "    \"learning_rate\": [0.01, 0.1, 0.2],\n",
    "    \"max_depth\": [3, 4, 5],\n",
    "    \"subsample\": [0.8, 1.0]  \n",
    "}\n",
    "\n",
    "# Grid search with cross-validation\n",
    "grid_search = GridSearchCV(\n",
    "    estimator=gbc,\n",
    "    param_grid=param_grid,\n",
    "    cv=kfold,\n",
    "    scoring='recall',\n",
    "    n_jobs=-1,\n",
    "    verbose=1\n",
    ")"
   ]
  },
  {
   "cell_type": "code",
   "execution_count": null,
   "id": "5e205368-4a11-42cf-a165-541163b3a44c",
   "metadata": {},
   "outputs": [],
   "source": [
    "# Fit the model\n",
    "grid_search.fit(X_train, y_train)\n",
    "# Best parameters and score\n",
    "print(\"Best Parameters:\", grid_search.best_params_)\n",
    "print(\"Best Cross-Validated Recall:\", grid_search.best_score_)"
   ]
  },
  {
   "cell_type": "code",
   "execution_count": null,
   "id": "02a948b3-44f4-4f21-9d48-903a9c73b13b",
   "metadata": {},
   "outputs": [],
   "source": [
    "# Evaluate on test data using best estimator\n",
    "best_model = grid_search.best_estimator_\n",
    "y_pred = best_model. predict(X_test)\n",
    "print(\"\\nConfusion Matrix:\\n\", confusion_matrix(y_test, y_pred))\n",
    "print(\"\\nClassification Report:\\n\", classification_report(y_test, y_pred))"
   ]
  },
  {
   "cell_type": "markdown",
   "id": "905fe677-4671-410b-b53f-8cba5a5dea66",
   "metadata": {},
   "source": [
    "## Identify feature importance scores using XGBClassifier"
   ]
  },
  {
   "cell_type": "code",
   "execution_count": null,
   "id": "1d9ef4db-ae87-4cb5-a6ab-311219aaeb8c",
   "metadata": {},
   "outputs": [],
   "source": [
    "best_model. feature_importances_"
   ]
  },
  {
   "cell_type": "code",
   "execution_count": null,
   "id": "5d0cb18f-f59f-41f5-99e8-830e5e498115",
   "metadata": {},
   "outputs": [],
   "source": []
  }
 ],
 "metadata": {
  "kernelspec": {
   "display_name": "Python 3 (ipykernel)",
   "language": "python",
   "name": "python3"
  },
  "language_info": {
   "codemirror_mode": {
    "name": "ipython",
    "version": 3
   },
   "file_extension": ".py",
   "mimetype": "text/x-python",
   "name": "python",
   "nbconvert_exporter": "python",
   "pygments_lexer": "ipython3",
   "version": "3.12.7"
  }
 },
 "nbformat": 4,
 "nbformat_minor": 5
}
