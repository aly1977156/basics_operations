{
 "cells": [
  {
   "cell_type": "code",
   "execution_count": null,
   "id": "4758e92a-efe2-4ea4-b132-d720bc620121",
   "metadata": {},
   "outputs": [],
   "source": [
    "def cal(*n):\n",
    "    t = []\n",
    "    for num in n:\n",
    "        if num % 2 == 0:\n",
    "            t.append(num)\n",
    "        else:\n",
    "            t.append(0)\n",
    "    sum1=sum(t)\n",
    "\n",
    "    return sum1\n",
    "\n",
    "\n",
    "n = [1, 2, 4]\n",
    "\n",
    "\n",
    "result = cal(*n)\n",
    "print(f\"Sum of even numbers{n}= \",result)  \n"
   ]
  }
 ],
 "metadata": {
  "kernelspec": {
   "display_name": "Python 3 (ipykernel)",
   "language": "python",
   "name": "python3"
  },
  "language_info": {
   "codemirror_mode": {
    "name": "ipython",
    "version": 3
   },
   "file_extension": ".py",
   "mimetype": "text/x-python",
   "name": "python",
   "nbconvert_exporter": "python",
   "pygments_lexer": "ipython3",
   "version": "3.12.7"
  }
 },
 "nbformat": 4,
 "nbformat_minor": 5
}
