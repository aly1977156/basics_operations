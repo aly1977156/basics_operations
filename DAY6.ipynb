{
 "cells": [
  {
   "cell_type": "markdown",
   "id": "392d3eb5-f14d-4f24-9759-995c7d26047d",
   "metadata": {},
   "source": [
    "# Using the Pandas library, perform the following tasks:\n",
    "\n",
    "1. Create a DataFrame from the following data:\n",
    "   | Name     | Age | Department   | Salary  |\n",
    "   |----------|-----|--------------|---------|\n",
    "   | John     | 28  | HR           | 45000   |\n",
    "   | Alice    | 34  | IT           | 60000   |\n",
    "   | Bob      | 23  | Marketing    | 35000   |\n",
    "   | Diana    | 29  | Finance      | 50000   |\n"
   ]
  },
  {
   "cell_type": "code",
   "execution_count": 1,
   "id": "c3ddfb15-a225-447b-a782-27e3a4f8004d",
   "metadata": {},
   "outputs": [
    {
     "name": "stdout",
     "output_type": "stream",
     "text": [
      "DataFrame:\n",
      "    Name  Age Department  Salary\n",
      "0   John   28         HR   45000\n",
      "1  Alice   34         IT   60000\n",
      "2    Bob   23  Marketing   35000\n",
      "3  Diana   29    Finance   50000\n",
      "\n",
      "First 2 rows of the DataFrame:\n",
      "    Name  Age Department  Salary\n",
      "0   John   28         HR   45000\n",
      "1  Alice   34         IT   60000\n",
      "\n",
      "DataFrame with Bonus column:\n",
      "    Name  Age Department  Salary   Bonus\n",
      "0   John   28         HR   45000  4500.0\n",
      "1  Alice   34         IT   60000  6000.0\n",
      "2    Bob   23  Marketing   35000  3500.0\n",
      "3  Diana   29    Finance   50000  5000.0\n",
      "\n",
      "Average Salary of employees: 47500.0\n",
      "\n",
      "Employees older than 25:\n",
      "    Name  Age Department  Salary   Bonus\n",
      "0   John   28         HR   45000  4500.0\n",
      "1  Alice   34         IT   60000  6000.0\n",
      "3  Diana   29    Finance   50000  5000.0\n"
     ]
    }
   ],
   "source": [
    "import pandas as pd\n",
    "\n",
    "\n",
    "data = {\n",
    "    \"Name\": [\"John\", \"Alice\", \"Bob\", \"Diana\"],\n",
    "    \"Age\": [28, 34, 23, 29],\n",
    "    \"Department\": [\"HR\", \"IT\", \"Marketing\", \"Finance\"],\n",
    "    \"Salary\": [45000, 60000, 35000, 50000]\n",
    "}\n",
    "\n",
    "\n",
    "df = pd.DataFrame(data)\n",
    "print(\"DataFrame:\")\n",
    "print(df)\n",
    "\n",
    "\n",
    "print(\"\\nFirst 2 rows of the DataFrame:\")\n",
    "print(df.head(2))\n",
    "\n",
    "\n",
    "df[\"Bonus\"] = df[\"Salary\"] * 0.10\n",
    "print(\"\\nDataFrame with Bonus column:\")\n",
    "print(df)\n",
    "\n",
    "\n",
    "average_salary = df[\"Salary\"].mean()\n",
    "print(\"\\nAverage Salary of employees:\", average_salary)\n",
    "\n",
    "\n",
    "filtered_df = df[df[\"Age\"] > 25]\n",
    "print(\"\\nEmployees older than 25:\")\n",
    "print(filtered_df)\n"
   ]
  },
  {
   "cell_type": "markdown",
   "id": "5fc91e38-7c8d-490e-ab90-69355c2e7fa4",
   "metadata": {},
   "source": [
    "# 2. Write code to:\n",
    "   - Display the first 2 rows of the DataFrame.\n",
    "   - Add a new column named `Bonus` where the bonus is 10% of the salary.\n",
    "   - Calculate the average salary of employees in the DataFrame.\n",
    "   - Filter and display employees who are older than 25."
   ]
  },
  {
   "cell_type": "code",
   "execution_count": 1,
   "id": "da70fadf-e24a-495f-be46-f121e130a3cf",
   "metadata": {},
   "outputs": [
    {
     "name": "stdout",
     "output_type": "stream",
     "text": [
      "First 2 rows of the DataFrame:\n",
      "    Name  Age Department  Salary\n",
      "0   John   28         HR   45000\n",
      "1  Alice   34         IT   60000\n",
      "\n",
      "DataFrame with Bonus column added:\n",
      "    Name  Age Department  Salary   Bonus\n",
      "0   John   28         HR   45000  4500.0\n",
      "1  Alice   34         IT   60000  6000.0\n",
      "2    Bob   23  Marketing   35000  3500.0\n",
      "3  Diana   29    Finance   50000  5000.0\n",
      "\n",
      "Average salary of employees: 47500.0\n",
      "\n",
      "Employees older than 25 are:\n",
      "    Name  Age Department  Salary   Bonus\n",
      "0   John   28         HR   45000  4500.0\n",
      "1  Alice   34         IT   60000  6000.0\n",
      "3  Diana   29    Finance   50000  5000.0\n"
     ]
    }
   ],
   "source": [
    "import pandas as pd\n",
    "data = {\n",
    "    'Name': ['John', 'Alice', 'Bob', 'Diana'],\n",
    "    'Age': [28, 34, 23, 29],\n",
    "    'Department': ['HR', 'IT', 'Marketing', 'Finance'],\n",
    "    'Salary': [45000, 60000, 35000, 50000]\n",
    "}\n",
    "df = pd.DataFrame(data)\n",
    "print(\"First 2 rows of the DataFrame:\")\n",
    "print(df.head(2))\n",
    "print() \n",
    "df['Bonus'] = df['Salary'] * 0.10\n",
    "print(\"DataFrame with Bonus column added:\")\n",
    "print(df)\n",
    "print() \n",
    "avg_salary = df['Salary'].mean()\n",
    "print(f\"Average salary of employees: {avg_salary}\")\n",
    "print()  \n",
    "older_than_25 = df[df['Age'] > 25]\n",
    "print(\"Employees older than 25 are:\")\n",
    "print(older_than_25)"
   ]
  },
  {
   "cell_type": "code",
   "execution_count": null,
   "id": "71dc50a7-9777-44c4-9619-e26d8350b473",
   "metadata": {},
   "outputs": [],
   "source": []
  }
 ],
 "metadata": {
  "kernelspec": {
   "display_name": "Python 3 (ipykernel)",
   "language": "python",
   "name": "python3"
  },
  "language_info": {
   "codemirror_mode": {
    "name": "ipython",
    "version": 3
   },
   "file_extension": ".py",
   "mimetype": "text/x-python",
   "name": "python",
   "nbconvert_exporter": "python",
   "pygments_lexer": "ipython3",
   "version": "3.12.7"
  }
 },
 "nbformat": 4,
 "nbformat_minor": 5
}
